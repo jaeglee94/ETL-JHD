{
 "cells": [
  {
   "cell_type": "code",
   "execution_count": 4,
   "metadata": {},
   "outputs": [],
   "source": [
    "# Dependencies\n",
    "from bs4 import BeautifulSoup\n",
    "import requests\n",
    "import pandas as pd\n",
    "import numpy as np\n",
    "from splinter import Browser"
   ]
  },
  {
   "cell_type": "code",
   "execution_count": 22,
   "metadata": {},
   "outputs": [],
   "source": [
    "# URL of page to be scraped\n",
    "url = 'https://www.cinemark.com/movies'\n",
    "\n",
    "# Retrieve page with the requests module\n",
    "response = requests.get(url)\n",
    "# Create BeautifulSoup object; parse with 'html'\n",
    "soup = BeautifulSoup(response.text, 'html.parser')\n",
    "# print(soup.prettify())\n",
    "# soup"
   ]
  },
  {
   "cell_type": "code",
   "execution_count": 25,
   "metadata": {},
   "outputs": [
    {
     "data": {
      "text/plain": [
       "17"
      ]
     },
     "execution_count": 25,
     "metadata": {},
     "output_type": "execute_result"
    }
   ],
   "source": [
    "# results = soup.find_all('a', class_='title')\n",
    "# for result in results:\n",
    "# #     title= result.find('a', class_='title')\n",
    "#     print(result)\n",
    "# if soup.find_all('div', class_='posterOverlay')\n",
    "#     print()\n",
    "# else:\n",
    "        \n",
    "movies = []\n",
    "results = soup.find_all('a', class_='title')\n",
    "for res in results:\n",
    "    try:\n",
    "       movies.append(res.contents[0])\n",
    "    except:\n",
    "        a = \"sucks\"\n",
    "len(movies)\n",
    "\n",
    "    \n",
    "\n",
    "    "
   ]
  },
  {
   "cell_type": "code",
   "execution_count": 46,
   "metadata": {},
   "outputs": [
    {
     "data": {
      "text/plain": [
       "['https://media.cinemark.com/media/83078/md_john-wick-3.jpg',\n",
       " 'https://media.cinemark.com/media/81829/md_avengers-endgame.jpg',\n",
       " 'https://media.cinemark.com/media/75952478/md_aladdin_fan_event.jpg',\n",
       " 'https://media.cinemark.com/media/82698/md_detective-pikachu.jpg',\n",
       " 'https://media.cinemark.com/media/82100/aladdin_poster_medium.jpg',\n",
       " 'https://media.cinemark.com/media/75952910/md_a_dogs_journey.jpg',\n",
       " 'https://media.cinemark.com/media/75952635/md_spider_man_ffh.jpg',\n",
       " 'https://media.cinemark.com/media/75952284/md_godzilla-king-of-monsters.jpg',\n",
       " 'https://media.cinemark.com/media/81405/md_rocketman.jpg',\n",
       " 'https://media.cinemark.com/media/75952915/md_secret_life_of_pets.jpg',\n",
       " 'https://media.cinemark.com/media/75952822/md_dark_phoenix.jpg',\n",
       " 'https://media.cinemark.com/media/75952871/md_dp_imax.jpg',\n",
       " 'https://media.cinemark.com/media/75952591/md_booksmart.jpg',\n",
       " 'https://media.cinemark.com/media/75952591/md_booksmart.jpg',\n",
       " 'https://media.cinemark.com/media/75952594/md_brightburn.jpg',\n",
       " 'https://media.cinemark.com/media/81626/md_late-night.jpg',\n",
       " 'https://media.cinemark.com/media/70149/md_steel_magnolias.jpg']"
      ]
     },
     "execution_count": 46,
     "metadata": {},
     "output_type": "execute_result"
    }
   ],
   "source": [
    "#img is child element of picture.\n",
    "results = soup.find_all('picture')\n",
    "images_array=[]\n",
    "for res in results:\n",
    "    image_results = res.find_all(\"img\", class_= \"img-responsive\")\n",
    "    for img in image_results:\n",
    "        try:\n",
    "            images_array.append(img['data-srcset'])\n",
    "        except:\n",
    "            a ='blank'\n",
    "            \n",
    "# len(images)\n",
    "images_array= images_array[1:]\n",
    "images_array"
   ]
  },
  {
   "cell_type": "code",
   "execution_count": 133,
   "metadata": {},
   "outputs": [
    {
     "data": {
      "text/plain": [
       "17"
      ]
     },
     "execution_count": 133,
     "metadata": {},
     "output_type": "execute_result"
    }
   ],
   "source": [
    "# soup.find_all\n",
    "advanced= []\n",
    "results = soup.find_all('div', class_='card')\n",
    "# results\n",
    "for result in results:\n",
    "    test = result.find_all('div', class_='posterOverlay')\n",
    "    if len(test)>0:\n",
    "        a=1\n",
    "    else:\n",
    "        a=0\n",
    "    advanced.append(a)\n",
    "    \n",
    "len(advanced)\n",
    "# advanced= advanced[3:]\n",
    "# advanced\n",
    "# len(results)\n",
    "# <a href=\"/aladdin-opening-night-fan-event\" class=\"title\">Aladdin Opening Night Fan Event</a>\n",
    "# results = soup.find_all('div', class_=\"col-xs-6 col-sm-4 col-md-3 movieBlock\") \n",
    "#     for res in pictures: \n",
    "#         if soup.find_all('div', class_='posterOverlay')\n",
    "# results"
   ]
  },
  {
   "cell_type": "code",
   "execution_count": 139,
   "metadata": {},
   "outputs": [],
   "source": [
    "cinemark = pd.DataFrame({'Title': movies, 'Poster': images_array, 'Theater': 'Cinemark', 'Advanced': advanced})"
   ]
  },
  {
   "cell_type": "code",
   "execution_count": 146,
   "metadata": {},
   "outputs": [],
   "source": [
    "cinemark.drop(cinemark[cinemark['Advanced'] == 1].index , inplace=True)"
   ]
  },
  {
   "cell_type": "code",
   "execution_count": 147,
   "metadata": {},
   "outputs": [
    {
     "data": {
      "text/html": [
       "<div>\n",
       "<style scoped>\n",
       "    .dataframe tbody tr th:only-of-type {\n",
       "        vertical-align: middle;\n",
       "    }\n",
       "\n",
       "    .dataframe tbody tr th {\n",
       "        vertical-align: top;\n",
       "    }\n",
       "\n",
       "    .dataframe thead th {\n",
       "        text-align: right;\n",
       "    }\n",
       "</style>\n",
       "<table border=\"1\" class=\"dataframe\">\n",
       "  <thead>\n",
       "    <tr style=\"text-align: right;\">\n",
       "      <th></th>\n",
       "      <th>Title</th>\n",
       "      <th>Poster</th>\n",
       "      <th>Theater</th>\n",
       "      <th>Advanced</th>\n",
       "    </tr>\n",
       "  </thead>\n",
       "  <tbody>\n",
       "    <tr>\n",
       "      <th>0</th>\n",
       "      <td>John Wick: Chapter 3 - Parabellum</td>\n",
       "      <td>https://media.cinemark.com/media/83078/md_john...</td>\n",
       "      <td>Cinemark</td>\n",
       "      <td>0</td>\n",
       "    </tr>\n",
       "    <tr>\n",
       "      <th>1</th>\n",
       "      <td>Avengers: Endgame</td>\n",
       "      <td>https://media.cinemark.com/media/81829/md_aven...</td>\n",
       "      <td>Cinemark</td>\n",
       "      <td>0</td>\n",
       "    </tr>\n",
       "    <tr>\n",
       "      <th>3</th>\n",
       "      <td>Pokémon Detective Pikachu</td>\n",
       "      <td>https://media.cinemark.com/media/82698/md_dete...</td>\n",
       "      <td>Cinemark</td>\n",
       "      <td>0</td>\n",
       "    </tr>\n",
       "    <tr>\n",
       "      <th>12</th>\n",
       "      <td>Booksmart: Early Access Screenings</td>\n",
       "      <td>https://media.cinemark.com/media/75952591/md_b...</td>\n",
       "      <td>Cinemark</td>\n",
       "      <td>0</td>\n",
       "    </tr>\n",
       "    <tr>\n",
       "      <th>13</th>\n",
       "      <td>Booksmart</td>\n",
       "      <td>https://media.cinemark.com/media/75952591/md_b...</td>\n",
       "      <td>Cinemark</td>\n",
       "      <td>0</td>\n",
       "    </tr>\n",
       "    <tr>\n",
       "      <th>16</th>\n",
       "      <td>Steel Magnolias 30th Anniversary (1989) presen...</td>\n",
       "      <td>https://media.cinemark.com/media/70149/md_stee...</td>\n",
       "      <td>Cinemark</td>\n",
       "      <td>0</td>\n",
       "    </tr>\n",
       "  </tbody>\n",
       "</table>\n",
       "</div>"
      ],
      "text/plain": [
       "                                                Title  \\\n",
       "0                   John Wick: Chapter 3 - Parabellum   \n",
       "1                                   Avengers: Endgame   \n",
       "3                           Pokémon Detective Pikachu   \n",
       "12                 Booksmart: Early Access Screenings   \n",
       "13                                          Booksmart   \n",
       "16  Steel Magnolias 30th Anniversary (1989) presen...   \n",
       "\n",
       "                                               Poster   Theater  Advanced  \n",
       "0   https://media.cinemark.com/media/83078/md_john...  Cinemark         0  \n",
       "1   https://media.cinemark.com/media/81829/md_aven...  Cinemark         0  \n",
       "3   https://media.cinemark.com/media/82698/md_dete...  Cinemark         0  \n",
       "12  https://media.cinemark.com/media/75952591/md_b...  Cinemark         0  \n",
       "13  https://media.cinemark.com/media/75952591/md_b...  Cinemark         0  \n",
       "16  https://media.cinemark.com/media/70149/md_stee...  Cinemark         0  "
      ]
     },
     "execution_count": 147,
     "metadata": {},
     "output_type": "execute_result"
    }
   ],
   "source": [
    "cinemark"
   ]
  },
  {
   "cell_type": "code",
   "execution_count": null,
   "metadata": {},
   "outputs": [],
   "source": []
  }
 ],
 "metadata": {
  "kernelspec": {
   "display_name": "Python 3",
   "language": "python",
   "name": "python3"
  },
  "language_info": {
   "codemirror_mode": {
    "name": "ipython",
    "version": 3
   },
   "file_extension": ".py",
   "mimetype": "text/x-python",
   "name": "python",
   "nbconvert_exporter": "python",
   "pygments_lexer": "ipython3",
   "version": "3.7.1"
  }
 },
 "nbformat": 4,
 "nbformat_minor": 2
}
