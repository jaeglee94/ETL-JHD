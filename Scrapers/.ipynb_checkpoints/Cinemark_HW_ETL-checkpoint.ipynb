{
 "cells": [
  {
   "cell_type": "code",
   "execution_count": 1,
   "metadata": {},
   "outputs": [],
   "source": [
    "from splinter import Browser\n",
    "from bs4 import BeautifulSoup as bs"
   ]
  },
  {
   "cell_type": "code",
   "execution_count": 2,
   "metadata": {},
   "outputs": [],
   "source": [
    "!which chromedriver"
   ]
  },
  {
   "cell_type": "code",
   "execution_count": 3,
   "metadata": {},
   "outputs": [],
   "source": [
    "executable_path = {'executable_path': '/usr/local/bin/chromedriver'}\n",
    "browser = Browser('chrome', **executable_path, headless=False)"
   ]
  },
  {
   "cell_type": "code",
   "execution_count": 4,
   "metadata": {},
   "outputs": [],
   "source": [
    "url = 'https://www.cinemark.com/movies'\n",
    "browser.visit(url)"
   ]
  },
  {
   "cell_type": "code",
   "execution_count": 5,
   "metadata": {},
   "outputs": [],
   "source": [
    "html = browser.html\n",
    "soup_movie = bs(html,'html.parser')"
   ]
  },
  {
   "cell_type": "code",
   "execution_count": 6,
   "metadata": {},
   "outputs": [],
   "source": [
    "#print(soup_movie.prettify())"
   ]
  },
  {
   "cell_type": "code",
   "execution_count": 99,
   "metadata": {},
   "outputs": [
    {
     "data": {
      "text/plain": [
       "<div class=\"contentGrid row\" id=\"fm\">\n",
       "<div class=\"col-xs-6 col-sm-4 col-md-3 movieBlock\" data-movie-id=\"96063\" data-movie-releasedate=\"5/17/2019 12:00:00 AM\" data-movie-title=\"John Wick: Chapter 3 - Parabellum\" data-original-sort=\"0\" id=\"fm96063\">\n",
       "<div class=\"card\">\n",
       "<a class=\"\" href=\"/john-wick-3\">\n",
       "<picture>\n",
       "<source data-srcset=\"https://media.cinemark.com/media/83078/md_john-wick-3.jpg\" media=\"(min-width: 768px)\" srcset=\"https://media.cinemark.com/media/83078/md_john-wick-3.jpg\"/>\n",
       "<source data-srcset=\"https://media.cinemark.com/media/83079/lg_john-wick-3.jpg\" media=\"(min-width: 450px)\" srcset=\"https://media.cinemark.com/media/83079/lg_john-wick-3.jpg\"/>\n",
       "<img alt=\"John Wick: Chapter 3 - Parabellum Poster\" class=\"img-responsive lazyloaded\" data-srcset=\"https://media.cinemark.com/media/83078/md_john-wick-3.jpg\" srcset=\"https://media.cinemark.com/media/83078/md_john-wick-3.jpg\"/>\n",
       "</picture>\n",
       "</a>\n",
       "<a class=\"title\" href=\"/john-wick-3\">John Wick: Chapter 3 - Parabellum</a>\n",
       "<div class=\"buttons\">\n",
       "<a class=\"button col-xs-6\" href=\"/john-wick-3\">Tickets</a>\n",
       "<a class=\"button col-xs-6 trailer\" data-trailer-embedded=\"True\" data-trailer-src=\"https://www.youtube.com/embed/M7XM597XO94?rel=0\" href=\"#\">Trailer</a>\n",
       "</div>\n",
       "</div>\n",
       "</div><div class=\"col-xs-6 col-sm-4 col-md-3 movieBlock\" data-movie-id=\"89955\" data-movie-releasedate=\"4/26/2019 12:00:00 AM\" data-movie-title=\"Avengers: Endgame\" data-original-sort=\"1\" id=\"fm89955\">\n",
       "<div class=\"card\">\n",
       "<a class=\"\" href=\"/avengers-endgame\">\n",
       "<picture>\n",
       "<source data-srcset=\"https://media.cinemark.com/media/81829/md_avengers-endgame.jpg\" media=\"(min-width: 768px)\" srcset=\"https://media.cinemark.com/media/81829/md_avengers-endgame.jpg\"/>\n",
       "<source data-srcset=\"https://media.cinemark.com/media/81830/lg_avengers-endgame.jpg\" media=\"(min-width: 450px)\" srcset=\"https://media.cinemark.com/media/81830/lg_avengers-endgame.jpg\"/>\n",
       "<img alt=\"Avengers: Endgame Poster\" class=\"img-responsive lazyloaded\" data-srcset=\"https://media.cinemark.com/media/81829/md_avengers-endgame.jpg\" srcset=\"https://media.cinemark.com/media/81829/md_avengers-endgame.jpg\"/>\n",
       "</picture>\n",
       "</a>\n",
       "<a class=\"title\" href=\"/avengers-endgame\">Avengers: Endgame</a>\n",
       "<div class=\"buttons\">\n",
       "<a class=\"button col-xs-6\" href=\"/avengers-endgame\">Tickets</a>\n",
       "<a class=\"button col-xs-6 trailer\" data-trailer-embedded=\"False\" data-trailer-src=\"https://www.totaleclips.com/Player/Bounce.aspx?eclipid=e162837&amp;bitrateid=461&amp;vendorid=2061&amp;type=.mp4\" href=\"#\">Trailer</a>\n",
       "</div>\n",
       "</div>\n",
       "</div><div class=\"col-xs-6 col-sm-4 col-md-3 movieBlock\" data-movie-id=\"97236\" data-movie-releasedate=\"5/23/2019 12:00:00 AM\" data-movie-title=\"Aladdin Opening Night Fan Event\" data-original-sort=\"2\" id=\"fm97236\">\n",
       "<div class=\"card\">\n",
       "<a class=\"posterHasOverlay\" href=\"/aladdin-opening-night-fan-event\">\n",
       "<picture>\n",
       "<source data-srcset=\"https://media.cinemark.com/media/75952478/md_aladdin_fan_event.jpg\" media=\"(min-width: 768px)\" srcset=\"https://media.cinemark.com/media/75952478/md_aladdin_fan_event.jpg\"/>\n",
       "<source data-srcset=\"https://media.cinemark.com/media/75952477/lg_aladdin_fan_event.jpg\" media=\"(min-width: 450px)\" srcset=\"https://media.cinemark.com/media/75952477/lg_aladdin_fan_event.jpg\"/>\n",
       "<img alt=\"Aladdin Opening Night Fan Event Poster\" class=\"img-responsive lazyloaded\" data-srcset=\"https://media.cinemark.com/media/75952478/md_aladdin_fan_event.jpg\" srcset=\"https://media.cinemark.com/media/75952478/md_aladdin_fan_event.jpg\"/>\n",
       "</picture>\n",
       "<div class=\"posterOverlay\">Advance Tickets</div>\n",
       "</a>\n",
       "<a class=\"title\" href=\"/aladdin-opening-night-fan-event\">Aladdin Opening Night Fan Event</a>\n",
       "<div class=\"buttons\">\n",
       "<a class=\"button\" href=\"/aladdin-opening-night-fan-event\">Tickets</a>\n",
       "</div>\n",
       "</div>\n",
       "</div><div class=\"col-xs-6 col-sm-4 col-md-3 movieBlock\" data-movie-id=\"95160\" data-movie-releasedate=\"5/10/2019 12:00:00 AM\" data-movie-title=\"Pokémon Detective Pikachu\" data-original-sort=\"3\" id=\"fm95160\">\n",
       "<div class=\"card\">\n",
       "<a class=\"\" href=\"/detective-pikachu\">\n",
       "<picture>\n",
       "<source data-srcset=\"https://media.cinemark.com/media/82698/md_detective-pikachu.jpg\" media=\"(min-width: 768px)\" srcset=\"https://media.cinemark.com/media/82698/md_detective-pikachu.jpg\"/>\n",
       "<source data-srcset=\"https://media.cinemark.com/media/82699/lg_detective-pikachu.jpg\" media=\"(min-width: 450px)\" srcset=\"https://media.cinemark.com/media/82699/lg_detective-pikachu.jpg\"/>\n",
       "<img alt=\"Pokémon Detective Pikachu Poster\" class=\"img-responsive lazyloaded\" data-srcset=\"https://media.cinemark.com/media/82698/md_detective-pikachu.jpg\" srcset=\"https://media.cinemark.com/media/82698/md_detective-pikachu.jpg\"/>\n",
       "</picture>\n",
       "</a>\n",
       "<a class=\"title\" href=\"/detective-pikachu\">Pokémon Detective Pikachu</a>\n",
       "<div class=\"buttons\">\n",
       "<a class=\"button col-xs-6\" href=\"/detective-pikachu\">Tickets</a>\n",
       "<a class=\"button col-xs-6 trailer\" data-trailer-embedded=\"True\" data-trailer-src=\"https://www.youtube.com/embed/bILE5BEyhdo?rel=0\" href=\"#\">Trailer</a>\n",
       "</div>\n",
       "</div>\n",
       "</div><div class=\"col-xs-6 col-sm-4 col-md-3 movieBlock\" data-movie-id=\"93279\" data-movie-releasedate=\"5/24/2019 12:00:00 AM\" data-movie-title=\"Aladdin\" data-original-sort=\"4\" id=\"fm93279\">\n",
       "<div class=\"card\">\n",
       "<a class=\"posterHasOverlay\" href=\"/aladdin\">\n",
       "<picture>\n",
       "<source data-srcset=\"https://media.cinemark.com/media/82100/aladdin_poster_medium.jpg\" media=\"(min-width: 768px)\" srcset=\"https://media.cinemark.com/media/82100/aladdin_poster_medium.jpg\"/>\n",
       "<source data-srcset=\"https://media.cinemark.com/media/82101/aladdin_poster_large.jpg\" media=\"(min-width: 450px)\" srcset=\"https://media.cinemark.com/media/82101/aladdin_poster_large.jpg\"/>\n",
       "<img alt=\"Aladdin Poster\" class=\"img-responsive lazyloaded\" data-srcset=\"https://media.cinemark.com/media/82100/aladdin_poster_medium.jpg\" srcset=\"https://media.cinemark.com/media/82100/aladdin_poster_medium.jpg\"/>\n",
       "</picture>\n",
       "<div class=\"posterOverlay\">Advance Tickets</div>\n",
       "</a>\n",
       "<a class=\"title\" href=\"/aladdin\">Aladdin</a>\n",
       "<div class=\"buttons\">\n",
       "<a class=\"button col-xs-6\" href=\"/aladdin\">Tickets</a>\n",
       "<a class=\"button col-xs-6 trailer\" data-trailer-embedded=\"False\" data-trailer-src=\"https://www.totaleclips.com/Player/Bounce.aspx?eclipid=e162824&amp;bitrateid=461&amp;vendorid=2061&amp;type=.mp4\" href=\"#\">Trailer</a>\n",
       "</div>\n",
       "</div>\n",
       "</div><div class=\"col-xs-6 col-sm-4 col-md-3 movieBlock\" data-movie-id=\"96066\" data-movie-releasedate=\"5/17/2019 12:00:00 AM\" data-movie-title=\"A Dog's Journey\" data-original-sort=\"5\" id=\"fm96066\">\n",
       "<div class=\"card\">\n",
       "<a class=\"posterHasOverlay\" href=\"/a-dogs-journey\">\n",
       "<picture>\n",
       "<source data-srcset=\"https://media.cinemark.com/media/75952910/md_a_dogs_journey.jpg\" media=\"(min-width: 768px)\" srcset=\"https://media.cinemark.com/media/75952910/md_a_dogs_journey.jpg\"/>\n",
       "<source data-srcset=\"https://media.cinemark.com/media/75952909/lg_a_dogs_journey.jpg\" media=\"(min-width: 450px)\" srcset=\"https://media.cinemark.com/media/75952909/lg_a_dogs_journey.jpg\"/>\n",
       "<img alt=\"A Dog's Journey Poster\" class=\"img-responsive lazyloaded\" data-srcset=\"https://media.cinemark.com/media/75952910/md_a_dogs_journey.jpg\" srcset=\"https://media.cinemark.com/media/75952910/md_a_dogs_journey.jpg\"/>\n",
       "</picture>\n",
       "<div class=\"posterOverlay\">Advance Tickets</div>\n",
       "</a>\n",
       "<a class=\"title\" href=\"/a-dogs-journey\">A Dog's Journey</a>\n",
       "<div class=\"buttons\">\n",
       "<a class=\"button\" href=\"/a-dogs-journey\">Tickets</a>\n",
       "</div>\n",
       "</div>\n",
       "</div><div class=\"col-xs-6 col-sm-4 col-md-3 movieBlock\" data-movie-id=\"89877\" data-movie-releasedate=\"7/2/2019 12:00:00 AM\" data-movie-title=\"Spider-Man: Far From Home\" data-original-sort=\"6\" id=\"fm89877\">\n",
       "<div class=\"card\">\n",
       "<a class=\"posterHasOverlay\" href=\"/spider-man-far-from-home\">\n",
       "<picture>\n",
       "<source data-srcset=\"https://media.cinemark.com/media/75952635/md_spider_man_ffh.jpg\" media=\"(min-width: 768px)\" srcset=\"https://media.cinemark.com/media/75952635/md_spider_man_ffh.jpg\"/>\n",
       "<source data-srcset=\"https://media.cinemark.com/media/75952634/lg_spider_man_ffh.jpg\" media=\"(min-width: 450px)\" srcset=\"https://media.cinemark.com/media/75952634/lg_spider_man_ffh.jpg\"/>\n",
       "<img alt=\"Spider-Man: Far From Home Poster\" class=\"img-responsive lazyloaded\" data-srcset=\"https://media.cinemark.com/media/75952635/md_spider_man_ffh.jpg\" srcset=\"https://media.cinemark.com/media/75952635/md_spider_man_ffh.jpg\"/>\n",
       "</picture>\n",
       "<div class=\"posterOverlay\">Advance Tickets</div>\n",
       "</a>\n",
       "<a class=\"title\" href=\"/spider-man-far-from-home\">Spider-Man: Far From Home</a>\n",
       "<div class=\"buttons\">\n",
       "<a class=\"button\" href=\"/spider-man-far-from-home\">Tickets</a>\n",
       "</div>\n",
       "</div>\n",
       "</div><div class=\"col-xs-6 col-sm-4 col-md-3 movieBlock\" data-movie-id=\"97259\" data-movie-releasedate=\"5/31/2019 12:00:00 AM\" data-movie-title=\"Godzilla: King Of The Monsters\" data-original-sort=\"7\" id=\"fm97259\">\n",
       "<div class=\"card\">\n",
       "<a class=\"posterHasOverlay\" href=\"/godzilla-king-of-the-monsters\">\n",
       "<picture>\n",
       "<source data-srcset=\"https://media.cinemark.com/media/75952284/md_godzilla-king-of-monsters.jpg\" media=\"(min-width: 768px)\" srcset=\"https://media.cinemark.com/media/75952284/md_godzilla-king-of-monsters.jpg\"/>\n",
       "<source data-srcset=\"https://media.cinemark.com/media/75952285/lg_godzilla-king-of-monsters.jpg\" media=\"(min-width: 450px)\" srcset=\"https://media.cinemark.com/media/75952285/lg_godzilla-king-of-monsters.jpg\"/>\n",
       "<img alt=\"Godzilla: King Of The Monsters Poster\" class=\"img-responsive lazyloaded\" data-srcset=\"https://media.cinemark.com/media/75952284/md_godzilla-king-of-monsters.jpg\" srcset=\"https://media.cinemark.com/media/75952284/md_godzilla-king-of-monsters.jpg\"/>\n",
       "</picture>\n",
       "<div class=\"posterOverlay\">Advance Tickets</div>\n",
       "</a>\n",
       "<a class=\"title\" href=\"/godzilla-king-of-the-monsters\">Godzilla: King Of The Monsters</a>\n",
       "<div class=\"buttons\">\n",
       "<a class=\"button\" href=\"/godzilla-king-of-the-monsters\">Tickets</a>\n",
       "</div>\n",
       "</div>\n",
       "</div><div class=\"col-xs-6 col-sm-4 col-md-3 movieBlock\" data-movie-id=\"93332\" data-movie-releasedate=\"5/31/2019 12:00:00 AM\" data-movie-title=\"Rocketman\" data-original-sort=\"8\" id=\"fm93332\">\n",
       "<div class=\"card\">\n",
       "<a class=\"posterHasOverlay\" href=\"/rocketman\">\n",
       "<picture>\n",
       "<source data-srcset=\"https://media.cinemark.com/media/81405/md_rocketman.jpg\" media=\"(min-width: 768px)\" srcset=\"https://media.cinemark.com/media/81405/md_rocketman.jpg\"/>\n",
       "<source data-srcset=\"https://media.cinemark.com/media/81406/lg_rocketman.jpg\" media=\"(min-width: 450px)\" srcset=\"https://media.cinemark.com/media/81406/lg_rocketman.jpg\"/>\n",
       "<img alt=\"Rocketman Poster\" class=\"img-responsive lazyloaded\" data-srcset=\"https://media.cinemark.com/media/81405/md_rocketman.jpg\" srcset=\"https://media.cinemark.com/media/81405/md_rocketman.jpg\"/>\n",
       "</picture>\n",
       "<div class=\"posterOverlay\">Advance Tickets</div>\n",
       "</a>\n",
       "<a class=\"title\" href=\"/rocketman\">Rocketman</a>\n",
       "<div class=\"buttons\">\n",
       "<a class=\"button\" href=\"/rocketman\">Tickets</a>\n",
       "</div>\n",
       "</div>\n",
       "</div><div class=\"col-xs-6 col-sm-4 col-md-3 movieBlock\" data-movie-id=\"45170\" data-movie-releasedate=\"6/7/2019 12:00:00 AM\" data-movie-title=\"The Secret Life of Pets 2\" data-original-sort=\"9\" id=\"fm45170\">\n",
       "<div class=\"card\">\n",
       "<a class=\"posterHasOverlay\" href=\"/the-secret-life-of-pets-2\">\n",
       "<picture>\n",
       "<source data-srcset=\"https://media.cinemark.com/media/75952915/md_secret_life_of_pets.jpg\" media=\"(min-width: 768px)\" srcset=\"https://media.cinemark.com/media/75952915/md_secret_life_of_pets.jpg\"/>\n",
       "<source data-srcset=\"https://media.cinemark.com/media/75952914/lg_secret_life_of_pets.jpg\" media=\"(min-width: 450px)\" srcset=\"https://media.cinemark.com/media/75952914/lg_secret_life_of_pets.jpg\"/>\n",
       "<img alt=\"The Secret Life of Pets 2 Poster\" class=\"img-responsive lazyloaded\" data-srcset=\"https://media.cinemark.com/media/75952915/md_secret_life_of_pets.jpg\" srcset=\"https://media.cinemark.com/media/75952915/md_secret_life_of_pets.jpg\"/>\n",
       "</picture>\n",
       "<div class=\"posterOverlay\">Advance Tickets</div>\n",
       "</a>\n",
       "<a class=\"title\" href=\"/the-secret-life-of-pets-2\">The Secret Life of Pets 2</a>\n",
       "<div class=\"buttons\">\n",
       "<a class=\"button\" href=\"/the-secret-life-of-pets-2\">Tickets</a>\n",
       "</div>\n",
       "</div>\n",
       "</div><div class=\"col-xs-6 col-sm-4 col-md-3 movieBlock\" data-movie-id=\"97264\" data-movie-releasedate=\"6/7/2019 12:00:00 AM\" data-movie-title=\"Dark Phoenix\" data-original-sort=\"10\" id=\"fm97264\">\n",
       "<div class=\"card\">\n",
       "<a class=\"posterHasOverlay\" href=\"/dark-phoenix\">\n",
       "<picture>\n",
       "<source data-srcset=\"https://media.cinemark.com/media/75952822/md_dark_phoenix.jpg\" media=\"(min-width: 768px)\" srcset=\"https://media.cinemark.com/media/75952822/md_dark_phoenix.jpg\"/>\n",
       "<source data-srcset=\"https://media.cinemark.com/media/75952823/lg_dark_phoenix.jpg\" media=\"(min-width: 450px)\" srcset=\"https://media.cinemark.com/media/75952823/lg_dark_phoenix.jpg\"/>\n",
       "<img alt=\"Dark Phoenix Poster\" class=\"img-responsive lazyloaded\" data-srcset=\"https://media.cinemark.com/media/75952822/md_dark_phoenix.jpg\" srcset=\"https://media.cinemark.com/media/75952822/md_dark_phoenix.jpg\"/>\n",
       "</picture>\n",
       "<div class=\"posterOverlay\">Advance Tickets</div>\n",
       "</a>\n",
       "<a class=\"title\" href=\"/dark-phoenix\">Dark Phoenix</a>\n",
       "<div class=\"buttons\">\n",
       "<a class=\"button\" href=\"/dark-phoenix\">Tickets</a>\n",
       "</div>\n",
       "</div>\n",
       "</div><div class=\"col-xs-6 col-sm-4 col-md-3 movieBlock\" data-movie-id=\"98083\" data-movie-releasedate=\"6/7/2019 12:00:00 AM\" data-movie-title=\"Dark Phoenix Opening Night IMAX Fan Event \" data-original-sort=\"11\" id=\"fm98083\">\n",
       "<div class=\"card\">\n",
       "<a class=\"posterHasOverlay\" href=\"/dark-phoenix-imax-fan-event\">\n",
       "<picture>\n",
       "<source data-srcset=\"https://media.cinemark.com/media/75952871/md_dp_imax.jpg\" media=\"(min-width: 768px)\" srcset=\"https://media.cinemark.com/media/75952871/md_dp_imax.jpg\"/>\n",
       "<source data-srcset=\"https://media.cinemark.com/media/75952870/lg_dp_imax.jpg\" media=\"(min-width: 450px)\" srcset=\"https://media.cinemark.com/media/75952870/lg_dp_imax.jpg\"/>\n",
       "<img alt=\"Dark Phoenix Opening Night IMAX Fan Event  Poster\" class=\"img-responsive lazyloaded\" data-srcset=\"https://media.cinemark.com/media/75952871/md_dp_imax.jpg\" srcset=\"https://media.cinemark.com/media/75952871/md_dp_imax.jpg\"/>\n",
       "</picture>\n",
       "<div class=\"posterOverlay\">Advance Tickets</div>\n",
       "</a>\n",
       "<a class=\"title\" href=\"/dark-phoenix-imax-fan-event\">Dark Phoenix Opening Night IMAX Fan Event </a>\n",
       "<div class=\"buttons\">\n",
       "<a class=\"button\" href=\"/dark-phoenix-imax-fan-event\">Tickets</a>\n",
       "</div>\n",
       "</div>\n",
       "</div><div class=\"col-xs-6 col-sm-4 col-md-3 movieBlock\" data-movie-id=\"97826\" data-movie-releasedate=\"5/17/2019 12:00:00 AM\" data-movie-title=\"Booksmart: Early Access Screenings\" data-original-sort=\"12\" id=\"fm97826\">\n",
       "<div class=\"card\">\n",
       "<a class=\"\" href=\"/booksmart-early-access-screenings\">\n",
       "<picture>\n",
       "<source data-srcset=\"https://media.cinemark.com/media/75952591/md_booksmart.jpg\" media=\"(min-width: 768px)\" srcset=\"https://media.cinemark.com/media/75952591/md_booksmart.jpg\"/>\n",
       "<source data-srcset=\"https://media.cinemark.com/media/75952590/lg_booksmart.jpg\" media=\"(min-width: 450px)\" srcset=\"https://media.cinemark.com/media/75952590/lg_booksmart.jpg\"/>\n",
       "<img alt=\"Booksmart: Early Access Screenings Poster\" class=\"img-responsive lazyloaded\" data-srcset=\"https://media.cinemark.com/media/75952591/md_booksmart.jpg\" srcset=\"https://media.cinemark.com/media/75952591/md_booksmart.jpg\"/>\n",
       "</picture>\n",
       "</a>\n",
       "<a class=\"title\" href=\"/booksmart-early-access-screenings\">Booksmart: Early Access Screenings</a>\n",
       "<div class=\"buttons\">\n",
       "<a class=\"button\" href=\"/booksmart-early-access-screenings\">Tickets</a>\n",
       "</div>\n",
       "</div>\n",
       "</div><div class=\"col-xs-6 col-sm-4 col-md-3 movieBlock\" data-movie-id=\"97598\" data-movie-releasedate=\"5/24/2019 12:00:00 AM\" data-movie-title=\"Booksmart\" data-original-sort=\"13\" id=\"fm97598\">\n",
       "<div class=\"card\">\n",
       "<a class=\"\" href=\"/booksmart\">\n",
       "<picture>\n",
       "<source data-srcset=\"https://media.cinemark.com/media/75952591/md_booksmart.jpg\" media=\"(min-width: 768px)\" srcset=\"https://media.cinemark.com/media/75952591/md_booksmart.jpg\"/>\n",
       "<source data-srcset=\"https://media.cinemark.com/media/75952590/lg_booksmart.jpg\" media=\"(min-width: 450px)\" srcset=\"https://media.cinemark.com/media/75952590/lg_booksmart.jpg\"/>\n",
       "<img alt=\"Booksmart Poster\" class=\"img-responsive lazyloaded\" data-srcset=\"https://media.cinemark.com/media/75952591/md_booksmart.jpg\" srcset=\"https://media.cinemark.com/media/75952591/md_booksmart.jpg\"/>\n",
       "</picture>\n",
       "</a>\n",
       "<a class=\"title\" href=\"/booksmart\">Booksmart</a>\n",
       "<div class=\"buttons\">\n",
       "<a class=\"button\" href=\"/booksmart\">Tickets</a>\n",
       "</div>\n",
       "</div>\n",
       "</div><div class=\"col-xs-6 col-sm-4 col-md-3 movieBlock\" data-movie-id=\"97597\" data-movie-releasedate=\"5/24/2019 12:00:00 AM\" data-movie-title=\"Brightburn\" data-original-sort=\"14\" id=\"fm97597\">\n",
       "<div class=\"card\">\n",
       "<a class=\"posterHasOverlay\" href=\"/brightburn\">\n",
       "<picture>\n",
       "<source data-srcset=\"https://media.cinemark.com/media/75952594/md_brightburn.jpg\" media=\"(min-width: 768px)\" srcset=\"https://media.cinemark.com/media/75952594/md_brightburn.jpg\"/>\n",
       "<source data-srcset=\"https://media.cinemark.com/media/75952593/lg_brightburn.jpg\" media=\"(min-width: 450px)\" srcset=\"https://media.cinemark.com/media/75952593/lg_brightburn.jpg\"/>\n",
       "<img alt=\"Brightburn Poster\" class=\"img-responsive lazyloaded\" data-srcset=\"https://media.cinemark.com/media/75952594/md_brightburn.jpg\" srcset=\"https://media.cinemark.com/media/75952594/md_brightburn.jpg\"/>\n",
       "</picture>\n",
       "<div class=\"posterOverlay\">Advance Tickets</div>\n",
       "</a>\n",
       "<a class=\"title\" href=\"/brightburn\">Brightburn</a>\n",
       "<div class=\"buttons\">\n",
       "<a class=\"button\" href=\"/brightburn\">Tickets</a>\n",
       "</div>\n",
       "</div>\n",
       "</div><div class=\"col-xs-6 col-sm-4 col-md-3 movieBlock\" data-movie-id=\"93495\" data-movie-releasedate=\"1/1/0001 12:00:00 AM\" data-movie-title=\"Late Night\" data-original-sort=\"15\" id=\"fm93495\">\n",
       "<div class=\"card\">\n",
       "<a class=\"posterHasOverlay\" href=\"/late-night\">\n",
       "<picture>\n",
       "<source data-srcset=\"https://media.cinemark.com/media/81626/md_late-night.jpg\" media=\"(min-width: 768px)\" srcset=\"https://media.cinemark.com/media/81626/md_late-night.jpg\"/>\n",
       "<source data-srcset=\"https://media.cinemark.com/media/81627/lg_late-night.jpg\" media=\"(min-width: 450px)\" srcset=\"https://media.cinemark.com/media/81627/lg_late-night.jpg\"/>\n",
       "<img alt=\"Late Night Poster\" class=\"img-responsive lazyloaded\" data-srcset=\"https://media.cinemark.com/media/81626/md_late-night.jpg\" srcset=\"https://media.cinemark.com/media/81626/md_late-night.jpg\"/>\n",
       "</picture>\n",
       "<div class=\"posterOverlay\">Advance Tickets</div>\n",
       "</a>\n",
       "<a class=\"title\" href=\"/late-night\">Late Night</a>\n",
       "<div class=\"buttons\">\n",
       "<a class=\"button\" href=\"/late-night\">Tickets</a>\n",
       "</div>\n",
       "</div>\n",
       "</div><div class=\"col-xs-6 col-sm-4 col-md-3 movieBlock\" data-movie-id=\"85693\" data-movie-releasedate=\"1/1/0001 12:00:00 AM\" data-movie-title=\"Steel Magnolias 30th Anniversary (1989) presented by TCM\" data-original-sort=\"16\" id=\"fm85693\">\n",
       "<div class=\"card\">\n",
       "<a class=\"\" href=\"/steel-magnolias-30th-anniversary\">\n",
       "<picture>\n",
       "<source data-srcset=\"https://media.cinemark.com/media/70149/md_steel_magnolias.jpg\" media=\"(min-width: 768px)\" srcset=\"https://media.cinemark.com/media/70149/md_steel_magnolias.jpg\"/>\n",
       "<source data-srcset=\"https://media.cinemark.com/media/70150/lg_steel_magnolias.jpg\" media=\"(min-width: 450px)\" srcset=\"https://media.cinemark.com/media/70150/lg_steel_magnolias.jpg\"/>\n",
       "<img alt=\"Steel Magnolias 30th Anniversary (1989) presented by TCM Poster\" class=\"img-responsive lazyloaded\" data-srcset=\"https://media.cinemark.com/media/70149/md_steel_magnolias.jpg\" srcset=\"https://media.cinemark.com/media/70149/md_steel_magnolias.jpg\"/>\n",
       "</picture>\n",
       "</a>\n",
       "<a class=\"title\" href=\"/steel-magnolias-30th-anniversary\">Steel Magnolias 30th Anniversary (1989) presented by TCM</a>\n",
       "<div class=\"buttons\">\n",
       "<a class=\"button\" href=\"/steel-magnolias-30th-anniversary\">Tickets</a>\n",
       "</div>\n",
       "</div>\n",
       "</div></div>"
      ]
     },
     "execution_count": 99,
     "metadata": {},
     "output_type": "execute_result"
    }
   ],
   "source": [
    "soup_movie.find('div', class_='contentGrid row')"
   ]
  },
  {
   "cell_type": "code",
   "execution_count": 8,
   "metadata": {},
   "outputs": [
    {
     "data": {
      "text/plain": [
       "'John Wick: Chapter 3 - Parabellum'"
      ]
     },
     "execution_count": 8,
     "metadata": {},
     "output_type": "execute_result"
    }
   ],
   "source": [
    "soup_movie.find('a', class_='title').get_text()"
   ]
  },
  {
   "cell_type": "code",
   "execution_count": 101,
   "metadata": {},
   "outputs": [
    {
     "data": {
      "text/plain": [
       "[<a class=\"title\" href=\"/john-wick-3\">John Wick: Chapter 3 - Parabellum</a>,\n",
       " <a class=\"title\" href=\"/avengers-endgame\">Avengers: Endgame</a>,\n",
       " <a class=\"title\" href=\"/aladdin-opening-night-fan-event\">Aladdin Opening Night Fan Event</a>,\n",
       " <a class=\"title\" href=\"/detective-pikachu\">Pokémon Detective Pikachu</a>,\n",
       " <a class=\"title\" href=\"/aladdin\">Aladdin</a>,\n",
       " <a class=\"title\" href=\"/a-dogs-journey\">A Dog's Journey</a>,\n",
       " <a class=\"title\" href=\"/spider-man-far-from-home\">Spider-Man: Far From Home</a>,\n",
       " <a class=\"title\" href=\"/godzilla-king-of-the-monsters\">Godzilla: King Of The Monsters</a>,\n",
       " <a class=\"title\" href=\"/rocketman\">Rocketman</a>,\n",
       " <a class=\"title\" href=\"/the-secret-life-of-pets-2\">The Secret Life of Pets 2</a>,\n",
       " <a class=\"title\" href=\"/dark-phoenix\">Dark Phoenix</a>,\n",
       " <a class=\"title\" href=\"/dark-phoenix-imax-fan-event\">Dark Phoenix Opening Night IMAX Fan Event </a>,\n",
       " <a class=\"title\" href=\"/booksmart-early-access-screenings\">Booksmart: Early Access Screenings</a>,\n",
       " <a class=\"title\" href=\"/booksmart\">Booksmart</a>,\n",
       " <a class=\"title\" href=\"/brightburn\">Brightburn</a>,\n",
       " <a class=\"title\" href=\"/late-night\">Late Night</a>,\n",
       " <a class=\"title\" href=\"/steel-magnolias-30th-anniversary\">Steel Magnolias 30th Anniversary (1989) presented by TCM</a>]"
      ]
     },
     "execution_count": 101,
     "metadata": {},
     "output_type": "execute_result"
    }
   ],
   "source": [
    "soup_movie.find_all('a', class_='title')"
   ]
  },
  {
   "cell_type": "code",
   "execution_count": 102,
   "metadata": {},
   "outputs": [
    {
     "data": {
      "text/plain": [
       "'John Wick: Chapter 3 - Parabellum'"
      ]
     },
     "execution_count": 102,
     "metadata": {},
     "output_type": "execute_result"
    }
   ],
   "source": [
    "soup_movie.find_all('a', class_='title')[0].contents[0]"
   ]
  },
  {
   "cell_type": "code",
   "execution_count": 103,
   "metadata": {},
   "outputs": [
    {
     "name": "stdout",
     "output_type": "stream",
     "text": [
      "Pokémon Detective Pikachu\n"
     ]
    }
   ],
   "source": [
    "cinemark_title = soup_movie.find_all('a', class_='title')[3].contents[0]\n",
    "print(cinemark_title)"
   ]
  },
  {
   "cell_type": "code",
   "execution_count": 104,
   "metadata": {},
   "outputs": [
    {
     "name": "stdout",
     "output_type": "stream",
     "text": [
      "[<a class=\"title\" href=\"/john-wick-3\">John Wick: Chapter 3 - Parabellum</a>, <a class=\"title\" href=\"/avengers-endgame\">Avengers: Endgame</a>, <a class=\"title\" href=\"/aladdin-opening-night-fan-event\">Aladdin Opening Night Fan Event</a>, <a class=\"title\" href=\"/detective-pikachu\">Pokémon Detective Pikachu</a>, <a class=\"title\" href=\"/aladdin\">Aladdin</a>, <a class=\"title\" href=\"/a-dogs-journey\">A Dog's Journey</a>, <a class=\"title\" href=\"/spider-man-far-from-home\">Spider-Man: Far From Home</a>, <a class=\"title\" href=\"/godzilla-king-of-the-monsters\">Godzilla: King Of The Monsters</a>, <a class=\"title\" href=\"/rocketman\">Rocketman</a>, <a class=\"title\" href=\"/the-secret-life-of-pets-2\">The Secret Life of Pets 2</a>, <a class=\"title\" href=\"/dark-phoenix\">Dark Phoenix</a>, <a class=\"title\" href=\"/dark-phoenix-imax-fan-event\">Dark Phoenix Opening Night IMAX Fan Event </a>, <a class=\"title\" href=\"/booksmart-early-access-screenings\">Booksmart: Early Access Screenings</a>, <a class=\"title\" href=\"/booksmart\">Booksmart</a>, <a class=\"title\" href=\"/brightburn\">Brightburn</a>, <a class=\"title\" href=\"/late-night\">Late Night</a>, <a class=\"title\" href=\"/steel-magnolias-30th-anniversary\">Steel Magnolias 30th Anniversary (1989) presented by TCM</a>]\n"
     ]
    }
   ],
   "source": [
    "movie_titles = soup_movie.find_all('a', class_='title')\n",
    "print(movie_titles)"
   ]
  },
  {
   "cell_type": "code",
   "execution_count": 15,
   "metadata": {},
   "outputs": [
    {
     "data": {
      "text/plain": [
       "[<div class=\"card\">\n",
       " <a class=\"\" href=\"/john-wick-3\">\n",
       " <picture>\n",
       " <source data-srcset=\"https://media.cinemark.com/media/83078/md_john-wick-3.jpg\" media=\"(min-width: 768px)\" srcset=\"https://media.cinemark.com/media/83078/md_john-wick-3.jpg\"/>\n",
       " <source data-srcset=\"https://media.cinemark.com/media/83079/lg_john-wick-3.jpg\" media=\"(min-width: 450px)\" srcset=\"https://media.cinemark.com/media/83079/lg_john-wick-3.jpg\"/>\n",
       " <img alt=\"John Wick: Chapter 3 - Parabellum Poster\" class=\"img-responsive lazyloaded\" data-srcset=\"https://media.cinemark.com/media/83078/md_john-wick-3.jpg\" srcset=\"https://media.cinemark.com/media/83078/md_john-wick-3.jpg\"/>\n",
       " </picture>\n",
       " </a>\n",
       " <a class=\"title\" href=\"/john-wick-3\">John Wick: Chapter 3 - Parabellum</a>\n",
       " <div class=\"buttons\">\n",
       " <a class=\"button col-xs-6\" href=\"/john-wick-3\">Tickets</a>\n",
       " <a class=\"button col-xs-6 trailer\" data-trailer-embedded=\"True\" data-trailer-src=\"https://www.youtube.com/embed/M7XM597XO94?rel=0\" href=\"#\">Trailer</a>\n",
       " </div>\n",
       " </div>, <div class=\"card\">\n",
       " <a class=\"\" href=\"/avengers-endgame\">\n",
       " <picture>\n",
       " <source data-srcset=\"https://media.cinemark.com/media/81829/md_avengers-endgame.jpg\" media=\"(min-width: 768px)\" srcset=\"https://media.cinemark.com/media/81829/md_avengers-endgame.jpg\"/>\n",
       " <source data-srcset=\"https://media.cinemark.com/media/81830/lg_avengers-endgame.jpg\" media=\"(min-width: 450px)\" srcset=\"https://media.cinemark.com/media/81830/lg_avengers-endgame.jpg\"/>\n",
       " <img alt=\"Avengers: Endgame Poster\" class=\"img-responsive lazyloaded\" data-srcset=\"https://media.cinemark.com/media/81829/md_avengers-endgame.jpg\" srcset=\"https://media.cinemark.com/media/81829/md_avengers-endgame.jpg\"/>\n",
       " </picture>\n",
       " </a>\n",
       " <a class=\"title\" href=\"/avengers-endgame\">Avengers: Endgame</a>\n",
       " <div class=\"buttons\">\n",
       " <a class=\"button col-xs-6\" href=\"/avengers-endgame\">Tickets</a>\n",
       " <a class=\"button col-xs-6 trailer\" data-trailer-embedded=\"False\" data-trailer-src=\"https://www.totaleclips.com/Player/Bounce.aspx?eclipid=e162837&amp;bitrateid=461&amp;vendorid=2061&amp;type=.mp4\" href=\"#\">Trailer</a>\n",
       " </div>\n",
       " </div>, <div class=\"card\">\n",
       " <a class=\"posterHasOverlay\" href=\"/aladdin-opening-night-fan-event\">\n",
       " <picture>\n",
       " <source data-srcset=\"https://media.cinemark.com/media/75952478/md_aladdin_fan_event.jpg\" media=\"(min-width: 768px)\" srcset=\"https://media.cinemark.com/media/75952478/md_aladdin_fan_event.jpg\"/>\n",
       " <source data-srcset=\"https://media.cinemark.com/media/75952477/lg_aladdin_fan_event.jpg\" media=\"(min-width: 450px)\" srcset=\"https://media.cinemark.com/media/75952477/lg_aladdin_fan_event.jpg\"/>\n",
       " <img alt=\"Aladdin Opening Night Fan Event Poster\" class=\"img-responsive lazyloaded\" data-srcset=\"https://media.cinemark.com/media/75952478/md_aladdin_fan_event.jpg\" srcset=\"https://media.cinemark.com/media/75952478/md_aladdin_fan_event.jpg\"/>\n",
       " </picture>\n",
       " <div class=\"posterOverlay\">Advance Tickets</div>\n",
       " </a>\n",
       " <a class=\"title\" href=\"/aladdin-opening-night-fan-event\">Aladdin Opening Night Fan Event</a>\n",
       " <div class=\"buttons\">\n",
       " <a class=\"button\" href=\"/aladdin-opening-night-fan-event\">Tickets</a>\n",
       " </div>\n",
       " </div>, <div class=\"card\">\n",
       " <a class=\"\" href=\"/detective-pikachu\">\n",
       " <picture>\n",
       " <source data-srcset=\"https://media.cinemark.com/media/82698/md_detective-pikachu.jpg\" media=\"(min-width: 768px)\" srcset=\"https://media.cinemark.com/media/82698/md_detective-pikachu.jpg\"/>\n",
       " <source data-srcset=\"https://media.cinemark.com/media/82699/lg_detective-pikachu.jpg\" media=\"(min-width: 450px)\" srcset=\"https://media.cinemark.com/media/82699/lg_detective-pikachu.jpg\"/>\n",
       " <img alt=\"Pokémon Detective Pikachu Poster\" class=\"img-responsive lazyloaded\" data-srcset=\"https://media.cinemark.com/media/82698/md_detective-pikachu.jpg\" srcset=\"https://media.cinemark.com/media/82698/md_detective-pikachu.jpg\"/>\n",
       " </picture>\n",
       " </a>\n",
       " <a class=\"title\" href=\"/detective-pikachu\">Pokémon Detective Pikachu</a>\n",
       " <div class=\"buttons\">\n",
       " <a class=\"button col-xs-6\" href=\"/detective-pikachu\">Tickets</a>\n",
       " <a class=\"button col-xs-6 trailer\" data-trailer-embedded=\"True\" data-trailer-src=\"https://www.youtube.com/embed/bILE5BEyhdo?rel=0\" href=\"#\">Trailer</a>\n",
       " </div>\n",
       " </div>, <div class=\"card\">\n",
       " <a class=\"posterHasOverlay\" href=\"/aladdin\">\n",
       " <picture>\n",
       " <source data-srcset=\"https://media.cinemark.com/media/82100/aladdin_poster_medium.jpg\" media=\"(min-width: 768px)\" srcset=\"https://media.cinemark.com/media/82100/aladdin_poster_medium.jpg\"/>\n",
       " <source data-srcset=\"https://media.cinemark.com/media/82101/aladdin_poster_large.jpg\" media=\"(min-width: 450px)\" srcset=\"https://media.cinemark.com/media/82101/aladdin_poster_large.jpg\"/>\n",
       " <img alt=\"Aladdin Poster\" class=\"img-responsive lazyloaded\" data-srcset=\"https://media.cinemark.com/media/82100/aladdin_poster_medium.jpg\" srcset=\"https://media.cinemark.com/media/82100/aladdin_poster_medium.jpg\"/>\n",
       " </picture>\n",
       " <div class=\"posterOverlay\">Advance Tickets</div>\n",
       " </a>\n",
       " <a class=\"title\" href=\"/aladdin\">Aladdin</a>\n",
       " <div class=\"buttons\">\n",
       " <a class=\"button col-xs-6\" href=\"/aladdin\">Tickets</a>\n",
       " <a class=\"button col-xs-6 trailer\" data-trailer-embedded=\"False\" data-trailer-src=\"https://www.totaleclips.com/Player/Bounce.aspx?eclipid=e162824&amp;bitrateid=461&amp;vendorid=2061&amp;type=.mp4\" href=\"#\">Trailer</a>\n",
       " </div>\n",
       " </div>, <div class=\"card\">\n",
       " <a class=\"posterHasOverlay\" href=\"/a-dogs-journey\">\n",
       " <picture>\n",
       " <source data-srcset=\"https://media.cinemark.com/media/75952910/md_a_dogs_journey.jpg\" media=\"(min-width: 768px)\" srcset=\"https://media.cinemark.com/media/75952910/md_a_dogs_journey.jpg\"/>\n",
       " <source data-srcset=\"https://media.cinemark.com/media/75952909/lg_a_dogs_journey.jpg\" media=\"(min-width: 450px)\" srcset=\"https://media.cinemark.com/media/75952909/lg_a_dogs_journey.jpg\"/>\n",
       " <img alt=\"A Dog's Journey Poster\" class=\"img-responsive lazyloaded\" data-srcset=\"https://media.cinemark.com/media/75952910/md_a_dogs_journey.jpg\" srcset=\"https://media.cinemark.com/media/75952910/md_a_dogs_journey.jpg\"/>\n",
       " </picture>\n",
       " <div class=\"posterOverlay\">Advance Tickets</div>\n",
       " </a>\n",
       " <a class=\"title\" href=\"/a-dogs-journey\">A Dog's Journey</a>\n",
       " <div class=\"buttons\">\n",
       " <a class=\"button\" href=\"/a-dogs-journey\">Tickets</a>\n",
       " </div>\n",
       " </div>, <div class=\"card\">\n",
       " <a class=\"posterHasOverlay\" href=\"/spider-man-far-from-home\">\n",
       " <picture>\n",
       " <source data-srcset=\"https://media.cinemark.com/media/75952635/md_spider_man_ffh.jpg\" media=\"(min-width: 768px)\" srcset=\"https://media.cinemark.com/media/75952635/md_spider_man_ffh.jpg\"/>\n",
       " <source data-srcset=\"https://media.cinemark.com/media/75952634/lg_spider_man_ffh.jpg\" media=\"(min-width: 450px)\" srcset=\"https://media.cinemark.com/media/75952634/lg_spider_man_ffh.jpg\"/>\n",
       " <img alt=\"Spider-Man: Far From Home Poster\" class=\"img-responsive lazyloaded\" data-srcset=\"https://media.cinemark.com/media/75952635/md_spider_man_ffh.jpg\" srcset=\"https://media.cinemark.com/media/75952635/md_spider_man_ffh.jpg\"/>\n",
       " </picture>\n",
       " <div class=\"posterOverlay\">Advance Tickets</div>\n",
       " </a>\n",
       " <a class=\"title\" href=\"/spider-man-far-from-home\">Spider-Man: Far From Home</a>\n",
       " <div class=\"buttons\">\n",
       " <a class=\"button\" href=\"/spider-man-far-from-home\">Tickets</a>\n",
       " </div>\n",
       " </div>, <div class=\"card\">\n",
       " <a class=\"posterHasOverlay\" href=\"/godzilla-king-of-the-monsters\">\n",
       " <picture>\n",
       " <source data-srcset=\"https://media.cinemark.com/media/75952284/md_godzilla-king-of-monsters.jpg\" media=\"(min-width: 768px)\" srcset=\"https://media.cinemark.com/media/75952284/md_godzilla-king-of-monsters.jpg\"/>\n",
       " <source data-srcset=\"https://media.cinemark.com/media/75952285/lg_godzilla-king-of-monsters.jpg\" media=\"(min-width: 450px)\" srcset=\"https://media.cinemark.com/media/75952285/lg_godzilla-king-of-monsters.jpg\"/>\n",
       " <img alt=\"Godzilla: King Of The Monsters Poster\" class=\"img-responsive lazyloaded\" data-srcset=\"https://media.cinemark.com/media/75952284/md_godzilla-king-of-monsters.jpg\" srcset=\"https://media.cinemark.com/media/75952284/md_godzilla-king-of-monsters.jpg\"/>\n",
       " </picture>\n",
       " <div class=\"posterOverlay\">Advance Tickets</div>\n",
       " </a>\n",
       " <a class=\"title\" href=\"/godzilla-king-of-the-monsters\">Godzilla: King Of The Monsters</a>\n",
       " <div class=\"buttons\">\n",
       " <a class=\"button\" href=\"/godzilla-king-of-the-monsters\">Tickets</a>\n",
       " </div>\n",
       " </div>, <div class=\"card\">\n",
       " <a class=\"posterHasOverlay\" href=\"/rocketman\">\n",
       " <picture>\n",
       " <source data-srcset=\"https://media.cinemark.com/media/81405/md_rocketman.jpg\" media=\"(min-width: 768px)\" srcset=\"https://media.cinemark.com/media/81405/md_rocketman.jpg\"/>\n",
       " <source data-srcset=\"https://media.cinemark.com/media/81406/lg_rocketman.jpg\" media=\"(min-width: 450px)\" srcset=\"https://media.cinemark.com/media/81406/lg_rocketman.jpg\"/>\n",
       " <img alt=\"Rocketman Poster\" class=\"img-responsive lazyloaded\" data-srcset=\"https://media.cinemark.com/media/81405/md_rocketman.jpg\" srcset=\"https://media.cinemark.com/media/81405/md_rocketman.jpg\"/>\n",
       " </picture>\n",
       " <div class=\"posterOverlay\">Advance Tickets</div>\n",
       " </a>\n",
       " <a class=\"title\" href=\"/rocketman\">Rocketman</a>\n",
       " <div class=\"buttons\">\n",
       " <a class=\"button\" href=\"/rocketman\">Tickets</a>\n",
       " </div>\n",
       " </div>, <div class=\"card\">\n",
       " <a class=\"posterHasOverlay\" href=\"/the-secret-life-of-pets-2\">\n",
       " <picture>\n",
       " <source data-srcset=\"https://media.cinemark.com/media/75952915/md_secret_life_of_pets.jpg\" media=\"(min-width: 768px)\" srcset=\"https://media.cinemark.com/media/75952915/md_secret_life_of_pets.jpg\"/>\n",
       " <source data-srcset=\"https://media.cinemark.com/media/75952914/lg_secret_life_of_pets.jpg\" media=\"(min-width: 450px)\" srcset=\"https://media.cinemark.com/media/75952914/lg_secret_life_of_pets.jpg\"/>\n",
       " <img alt=\"The Secret Life of Pets 2 Poster\" class=\"img-responsive lazyloaded\" data-srcset=\"https://media.cinemark.com/media/75952915/md_secret_life_of_pets.jpg\" srcset=\"https://media.cinemark.com/media/75952915/md_secret_life_of_pets.jpg\"/>\n",
       " </picture>\n",
       " <div class=\"posterOverlay\">Advance Tickets</div>\n",
       " </a>\n",
       " <a class=\"title\" href=\"/the-secret-life-of-pets-2\">The Secret Life of Pets 2</a>\n",
       " <div class=\"buttons\">\n",
       " <a class=\"button\" href=\"/the-secret-life-of-pets-2\">Tickets</a>\n",
       " </div>\n",
       " </div>, <div class=\"card\">\n",
       " <a class=\"posterHasOverlay\" href=\"/dark-phoenix\">\n",
       " <picture>\n",
       " <source data-srcset=\"https://media.cinemark.com/media/75952822/md_dark_phoenix.jpg\" media=\"(min-width: 768px)\" srcset=\"https://media.cinemark.com/media/75952822/md_dark_phoenix.jpg\"/>\n",
       " <source data-srcset=\"https://media.cinemark.com/media/75952823/lg_dark_phoenix.jpg\" media=\"(min-width: 450px)\" srcset=\"https://media.cinemark.com/media/75952823/lg_dark_phoenix.jpg\"/>\n",
       " <img alt=\"Dark Phoenix Poster\" class=\"img-responsive lazyloaded\" data-srcset=\"https://media.cinemark.com/media/75952822/md_dark_phoenix.jpg\" srcset=\"https://media.cinemark.com/media/75952822/md_dark_phoenix.jpg\"/>\n",
       " </picture>\n",
       " <div class=\"posterOverlay\">Advance Tickets</div>\n",
       " </a>\n",
       " <a class=\"title\" href=\"/dark-phoenix\">Dark Phoenix</a>\n",
       " <div class=\"buttons\">\n",
       " <a class=\"button\" href=\"/dark-phoenix\">Tickets</a>\n",
       " </div>\n",
       " </div>, <div class=\"card\">\n",
       " <a class=\"posterHasOverlay\" href=\"/dark-phoenix-imax-fan-event\">\n",
       " <picture>\n",
       " <source data-srcset=\"https://media.cinemark.com/media/75952871/md_dp_imax.jpg\" media=\"(min-width: 768px)\" srcset=\"https://media.cinemark.com/media/75952871/md_dp_imax.jpg\"/>\n",
       " <source data-srcset=\"https://media.cinemark.com/media/75952870/lg_dp_imax.jpg\" media=\"(min-width: 450px)\" srcset=\"https://media.cinemark.com/media/75952870/lg_dp_imax.jpg\"/>\n",
       " <img alt=\"Dark Phoenix Opening Night IMAX Fan Event  Poster\" class=\"img-responsive lazyloaded\" data-srcset=\"https://media.cinemark.com/media/75952871/md_dp_imax.jpg\" srcset=\"https://media.cinemark.com/media/75952871/md_dp_imax.jpg\"/>\n",
       " </picture>\n",
       " <div class=\"posterOverlay\">Advance Tickets</div>\n",
       " </a>\n",
       " <a class=\"title\" href=\"/dark-phoenix-imax-fan-event\">Dark Phoenix Opening Night IMAX Fan Event </a>\n",
       " <div class=\"buttons\">\n",
       " <a class=\"button\" href=\"/dark-phoenix-imax-fan-event\">Tickets</a>\n",
       " </div>\n",
       " </div>, <div class=\"card\">\n",
       " <a class=\"\" href=\"/booksmart-early-access-screenings\">\n",
       " <picture>\n",
       " <source data-srcset=\"https://media.cinemark.com/media/75952591/md_booksmart.jpg\" media=\"(min-width: 768px)\" srcset=\"https://media.cinemark.com/media/75952591/md_booksmart.jpg\"/>\n",
       " <source data-srcset=\"https://media.cinemark.com/media/75952590/lg_booksmart.jpg\" media=\"(min-width: 450px)\" srcset=\"https://media.cinemark.com/media/75952590/lg_booksmart.jpg\"/>\n",
       " <img alt=\"Booksmart: Early Access Screenings Poster\" class=\"img-responsive lazyloaded\" data-srcset=\"https://media.cinemark.com/media/75952591/md_booksmart.jpg\" srcset=\"https://media.cinemark.com/media/75952591/md_booksmart.jpg\"/>\n",
       " </picture>\n",
       " </a>\n",
       " <a class=\"title\" href=\"/booksmart-early-access-screenings\">Booksmart: Early Access Screenings</a>\n",
       " <div class=\"buttons\">\n",
       " <a class=\"button\" href=\"/booksmart-early-access-screenings\">Tickets</a>\n",
       " </div>\n",
       " </div>, <div class=\"card\">\n",
       " <a class=\"\" href=\"/booksmart\">\n",
       " <picture>\n",
       " <source data-srcset=\"https://media.cinemark.com/media/75952591/md_booksmart.jpg\" media=\"(min-width: 768px)\" srcset=\"https://media.cinemark.com/media/75952591/md_booksmart.jpg\"/>\n",
       " <source data-srcset=\"https://media.cinemark.com/media/75952590/lg_booksmart.jpg\" media=\"(min-width: 450px)\" srcset=\"https://media.cinemark.com/media/75952590/lg_booksmart.jpg\"/>\n",
       " <img alt=\"Booksmart Poster\" class=\"img-responsive lazyloaded\" data-srcset=\"https://media.cinemark.com/media/75952591/md_booksmart.jpg\" srcset=\"https://media.cinemark.com/media/75952591/md_booksmart.jpg\"/>\n",
       " </picture>\n",
       " </a>\n",
       " <a class=\"title\" href=\"/booksmart\">Booksmart</a>\n",
       " <div class=\"buttons\">\n",
       " <a class=\"button\" href=\"/booksmart\">Tickets</a>\n",
       " </div>\n",
       " </div>, <div class=\"card\">\n",
       " <a class=\"posterHasOverlay\" href=\"/brightburn\">\n",
       " <picture>\n",
       " <source data-srcset=\"https://media.cinemark.com/media/75952594/md_brightburn.jpg\" media=\"(min-width: 768px)\" srcset=\"https://media.cinemark.com/media/75952594/md_brightburn.jpg\"/>\n",
       " <source data-srcset=\"https://media.cinemark.com/media/75952593/lg_brightburn.jpg\" media=\"(min-width: 450px)\" srcset=\"https://media.cinemark.com/media/75952593/lg_brightburn.jpg\"/>\n",
       " <img alt=\"Brightburn Poster\" class=\"img-responsive lazyloaded\" data-srcset=\"https://media.cinemark.com/media/75952594/md_brightburn.jpg\" srcset=\"https://media.cinemark.com/media/75952594/md_brightburn.jpg\"/>\n",
       " </picture>\n",
       " <div class=\"posterOverlay\">Advance Tickets</div>\n",
       " </a>\n",
       " <a class=\"title\" href=\"/brightburn\">Brightburn</a>\n",
       " <div class=\"buttons\">\n",
       " <a class=\"button\" href=\"/brightburn\">Tickets</a>\n",
       " </div>\n",
       " </div>, <div class=\"card\">\n",
       " <a class=\"posterHasOverlay\" href=\"/late-night\">\n",
       " <picture>\n",
       " <source data-srcset=\"https://media.cinemark.com/media/81626/md_late-night.jpg\" media=\"(min-width: 768px)\" srcset=\"https://media.cinemark.com/media/81626/md_late-night.jpg\"/>\n",
       " <source data-srcset=\"https://media.cinemark.com/media/81627/lg_late-night.jpg\" media=\"(min-width: 450px)\" srcset=\"https://media.cinemark.com/media/81627/lg_late-night.jpg\"/>\n",
       " <img alt=\"Late Night Poster\" class=\"img-responsive lazyloaded\" data-srcset=\"https://media.cinemark.com/media/81626/md_late-night.jpg\" srcset=\"https://media.cinemark.com/media/81626/md_late-night.jpg\"/>\n",
       " </picture>\n",
       " <div class=\"posterOverlay\">Advance Tickets</div>\n",
       " </a>\n",
       " <a class=\"title\" href=\"/late-night\">Late Night</a>\n",
       " <div class=\"buttons\">\n",
       " <a class=\"button\" href=\"/late-night\">Tickets</a>\n",
       " </div>\n",
       " </div>, <div class=\"card\">\n",
       " <a class=\"\" href=\"/steel-magnolias-30th-anniversary\">\n",
       " <picture>\n",
       " <source data-srcset=\"https://media.cinemark.com/media/70149/md_steel_magnolias.jpg\" media=\"(min-width: 768px)\" srcset=\"https://media.cinemark.com/media/70149/md_steel_magnolias.jpg\"/>\n",
       " <source data-srcset=\"https://media.cinemark.com/media/70150/lg_steel_magnolias.jpg\" media=\"(min-width: 450px)\" srcset=\"https://media.cinemark.com/media/70150/lg_steel_magnolias.jpg\"/>\n",
       " <img alt=\"Steel Magnolias 30th Anniversary (1989) presented by TCM Poster\" class=\"img-responsive lazyloaded\" data-srcset=\"https://media.cinemark.com/media/70149/md_steel_magnolias.jpg\" srcset=\"https://media.cinemark.com/media/70149/md_steel_magnolias.jpg\"/>\n",
       " </picture>\n",
       " </a>\n",
       " <a class=\"title\" href=\"/steel-magnolias-30th-anniversary\">Steel Magnolias 30th Anniversary (1989) presented by TCM</a>\n",
       " <div class=\"buttons\">\n",
       " <a class=\"button\" href=\"/steel-magnolias-30th-anniversary\">Tickets</a>\n",
       " </div>\n",
       " </div>]"
      ]
     },
     "execution_count": 15,
     "metadata": {},
     "output_type": "execute_result"
    }
   ],
   "source": [
    "soup_movie.find_all('div', class_='card')"
   ]
  },
  {
   "cell_type": "code",
   "execution_count": 34,
   "metadata": {},
   "outputs": [
    {
     "name": "stdout",
     "output_type": "stream",
     "text": [
      "[<picture>\n",
      "<source media=\"(min-width: 992px)\" srcset=\"/images/cinemarkLogo.png\"/>\n",
      "<img alt=\"Cinemark | Century Theatres, CinéArts, Tinseltown, Rave Cinemas\" class=\"img-responsive\" srcset=\"/images/cinemarkC.png\"/>\n",
      "</picture>, <picture>\n",
      "<source media=\"(min-width: 992px)\" srcset=\"/images/cinemarkLogo.png\"/>\n",
      "<img alt=\"Cinemark | Century Theatres, CinéArts, Tinseltown, Rave Cinemas\" class=\"img-responsive\" srcset=\"/images/cinemarkC.png\"/>\n",
      "</picture>, <picture id=\"98180\">\n",
      "<source data-srcset=\"https://media.cinemark.com/media/75952874/mc_no_fees_300x250.jpg\" media=\"(min-width: 768px)\" srcset=\"https://media.cinemark.com/media/75952874/mc_no_fees_300x250.jpg\"/>\n",
      "<source data-srcset=\"https://media.cinemark.com/media/75952875/mc_no_fees_728x90.jpg\" media=\"(min-width: 450px)\" srcset=\"https://media.cinemark.com/media/75952875/mc_no_fees_728x90.jpg\"/>\n",
      "<img alt=\"Cinemark Movie Club - Tickets, Discounts &amp; More! Join Now. $8.99 per Month. *Certain restrictions apply. See website for details\" class=\"img-responsive lazyloaded\" data-srcset=\"https://media.cinemark.com/media/75952873/mc_no_fees_300x100.jpg\" srcset=\"https://media.cinemark.com/media/75952873/mc_no_fees_300x100.jpg\"/>\n",
      "</picture>, <picture>\n",
      "<source data-srcset=\"https://media.cinemark.com/media/83078/md_john-wick-3.jpg\" media=\"(min-width: 768px)\" srcset=\"https://media.cinemark.com/media/83078/md_john-wick-3.jpg\"/>\n",
      "<source data-srcset=\"https://media.cinemark.com/media/83079/lg_john-wick-3.jpg\" media=\"(min-width: 450px)\" srcset=\"https://media.cinemark.com/media/83079/lg_john-wick-3.jpg\"/>\n",
      "<img alt=\"John Wick: Chapter 3 - Parabellum Poster\" class=\"img-responsive lazyloaded\" data-srcset=\"https://media.cinemark.com/media/83078/md_john-wick-3.jpg\" srcset=\"https://media.cinemark.com/media/83078/md_john-wick-3.jpg\"/>\n",
      "</picture>, <picture>\n",
      "<source data-srcset=\"https://media.cinemark.com/media/81829/md_avengers-endgame.jpg\" media=\"(min-width: 768px)\" srcset=\"https://media.cinemark.com/media/81829/md_avengers-endgame.jpg\"/>\n",
      "<source data-srcset=\"https://media.cinemark.com/media/81830/lg_avengers-endgame.jpg\" media=\"(min-width: 450px)\" srcset=\"https://media.cinemark.com/media/81830/lg_avengers-endgame.jpg\"/>\n",
      "<img alt=\"Avengers: Endgame Poster\" class=\"img-responsive lazyloaded\" data-srcset=\"https://media.cinemark.com/media/81829/md_avengers-endgame.jpg\" srcset=\"https://media.cinemark.com/media/81829/md_avengers-endgame.jpg\"/>\n",
      "</picture>, <picture>\n",
      "<source data-srcset=\"https://media.cinemark.com/media/75952478/md_aladdin_fan_event.jpg\" media=\"(min-width: 768px)\" srcset=\"https://media.cinemark.com/media/75952478/md_aladdin_fan_event.jpg\"/>\n",
      "<source data-srcset=\"https://media.cinemark.com/media/75952477/lg_aladdin_fan_event.jpg\" media=\"(min-width: 450px)\" srcset=\"https://media.cinemark.com/media/75952477/lg_aladdin_fan_event.jpg\"/>\n",
      "<img alt=\"Aladdin Opening Night Fan Event Poster\" class=\"img-responsive lazyloaded\" data-srcset=\"https://media.cinemark.com/media/75952478/md_aladdin_fan_event.jpg\" srcset=\"https://media.cinemark.com/media/75952478/md_aladdin_fan_event.jpg\"/>\n",
      "</picture>, <picture>\n",
      "<source data-srcset=\"https://media.cinemark.com/media/82698/md_detective-pikachu.jpg\" media=\"(min-width: 768px)\" srcset=\"https://media.cinemark.com/media/82698/md_detective-pikachu.jpg\"/>\n",
      "<source data-srcset=\"https://media.cinemark.com/media/82699/lg_detective-pikachu.jpg\" media=\"(min-width: 450px)\" srcset=\"https://media.cinemark.com/media/82699/lg_detective-pikachu.jpg\"/>\n",
      "<img alt=\"Pokémon Detective Pikachu Poster\" class=\"img-responsive lazyloaded\" data-srcset=\"https://media.cinemark.com/media/82698/md_detective-pikachu.jpg\" srcset=\"https://media.cinemark.com/media/82698/md_detective-pikachu.jpg\"/>\n",
      "</picture>, <picture>\n",
      "<source data-srcset=\"https://media.cinemark.com/media/82100/aladdin_poster_medium.jpg\" media=\"(min-width: 768px)\" srcset=\"https://media.cinemark.com/media/82100/aladdin_poster_medium.jpg\"/>\n",
      "<source data-srcset=\"https://media.cinemark.com/media/82101/aladdin_poster_large.jpg\" media=\"(min-width: 450px)\" srcset=\"https://media.cinemark.com/media/82101/aladdin_poster_large.jpg\"/>\n",
      "<img alt=\"Aladdin Poster\" class=\"img-responsive lazyloaded\" data-srcset=\"https://media.cinemark.com/media/82100/aladdin_poster_medium.jpg\" srcset=\"https://media.cinemark.com/media/82100/aladdin_poster_medium.jpg\"/>\n",
      "</picture>, <picture>\n",
      "<source data-srcset=\"https://media.cinemark.com/media/75952910/md_a_dogs_journey.jpg\" media=\"(min-width: 768px)\" srcset=\"https://media.cinemark.com/media/75952910/md_a_dogs_journey.jpg\"/>\n",
      "<source data-srcset=\"https://media.cinemark.com/media/75952909/lg_a_dogs_journey.jpg\" media=\"(min-width: 450px)\" srcset=\"https://media.cinemark.com/media/75952909/lg_a_dogs_journey.jpg\"/>\n",
      "<img alt=\"A Dog's Journey Poster\" class=\"img-responsive lazyloaded\" data-srcset=\"https://media.cinemark.com/media/75952910/md_a_dogs_journey.jpg\" srcset=\"https://media.cinemark.com/media/75952910/md_a_dogs_journey.jpg\"/>\n",
      "</picture>, <picture>\n",
      "<source data-srcset=\"https://media.cinemark.com/media/75952635/md_spider_man_ffh.jpg\" media=\"(min-width: 768px)\" srcset=\"https://media.cinemark.com/media/75952635/md_spider_man_ffh.jpg\"/>\n",
      "<source data-srcset=\"https://media.cinemark.com/media/75952634/lg_spider_man_ffh.jpg\" media=\"(min-width: 450px)\" srcset=\"https://media.cinemark.com/media/75952634/lg_spider_man_ffh.jpg\"/>\n",
      "<img alt=\"Spider-Man: Far From Home Poster\" class=\"img-responsive lazyloaded\" data-srcset=\"https://media.cinemark.com/media/75952635/md_spider_man_ffh.jpg\" srcset=\"https://media.cinemark.com/media/75952635/md_spider_man_ffh.jpg\"/>\n",
      "</picture>, <picture>\n",
      "<source data-srcset=\"https://media.cinemark.com/media/75952284/md_godzilla-king-of-monsters.jpg\" media=\"(min-width: 768px)\" srcset=\"https://media.cinemark.com/media/75952284/md_godzilla-king-of-monsters.jpg\"/>\n",
      "<source data-srcset=\"https://media.cinemark.com/media/75952285/lg_godzilla-king-of-monsters.jpg\" media=\"(min-width: 450px)\" srcset=\"https://media.cinemark.com/media/75952285/lg_godzilla-king-of-monsters.jpg\"/>\n",
      "<img alt=\"Godzilla: King Of The Monsters Poster\" class=\"img-responsive lazyloaded\" data-srcset=\"https://media.cinemark.com/media/75952284/md_godzilla-king-of-monsters.jpg\" srcset=\"https://media.cinemark.com/media/75952284/md_godzilla-king-of-monsters.jpg\"/>\n",
      "</picture>, <picture>\n",
      "<source data-srcset=\"https://media.cinemark.com/media/81405/md_rocketman.jpg\" media=\"(min-width: 768px)\" srcset=\"https://media.cinemark.com/media/81405/md_rocketman.jpg\"/>\n",
      "<source data-srcset=\"https://media.cinemark.com/media/81406/lg_rocketman.jpg\" media=\"(min-width: 450px)\" srcset=\"https://media.cinemark.com/media/81406/lg_rocketman.jpg\"/>\n",
      "<img alt=\"Rocketman Poster\" class=\"img-responsive lazyloaded\" data-srcset=\"https://media.cinemark.com/media/81405/md_rocketman.jpg\" srcset=\"https://media.cinemark.com/media/81405/md_rocketman.jpg\"/>\n",
      "</picture>, <picture>\n",
      "<source data-srcset=\"https://media.cinemark.com/media/75952915/md_secret_life_of_pets.jpg\" media=\"(min-width: 768px)\" srcset=\"https://media.cinemark.com/media/75952915/md_secret_life_of_pets.jpg\"/>\n",
      "<source data-srcset=\"https://media.cinemark.com/media/75952914/lg_secret_life_of_pets.jpg\" media=\"(min-width: 450px)\" srcset=\"https://media.cinemark.com/media/75952914/lg_secret_life_of_pets.jpg\"/>\n",
      "<img alt=\"The Secret Life of Pets 2 Poster\" class=\"img-responsive lazyloaded\" data-srcset=\"https://media.cinemark.com/media/75952915/md_secret_life_of_pets.jpg\" srcset=\"https://media.cinemark.com/media/75952915/md_secret_life_of_pets.jpg\"/>\n",
      "</picture>, <picture>\n",
      "<source data-srcset=\"https://media.cinemark.com/media/75952822/md_dark_phoenix.jpg\" media=\"(min-width: 768px)\" srcset=\"https://media.cinemark.com/media/75952822/md_dark_phoenix.jpg\"/>\n",
      "<source data-srcset=\"https://media.cinemark.com/media/75952823/lg_dark_phoenix.jpg\" media=\"(min-width: 450px)\" srcset=\"https://media.cinemark.com/media/75952823/lg_dark_phoenix.jpg\"/>\n",
      "<img alt=\"Dark Phoenix Poster\" class=\"img-responsive lazyloaded\" data-srcset=\"https://media.cinemark.com/media/75952822/md_dark_phoenix.jpg\" srcset=\"https://media.cinemark.com/media/75952822/md_dark_phoenix.jpg\"/>\n",
      "</picture>, <picture>\n",
      "<source data-srcset=\"https://media.cinemark.com/media/75952871/md_dp_imax.jpg\" media=\"(min-width: 768px)\" srcset=\"https://media.cinemark.com/media/75952871/md_dp_imax.jpg\"/>\n",
      "<source data-srcset=\"https://media.cinemark.com/media/75952870/lg_dp_imax.jpg\" media=\"(min-width: 450px)\" srcset=\"https://media.cinemark.com/media/75952870/lg_dp_imax.jpg\"/>\n",
      "<img alt=\"Dark Phoenix Opening Night IMAX Fan Event  Poster\" class=\"img-responsive lazyloaded\" data-srcset=\"https://media.cinemark.com/media/75952871/md_dp_imax.jpg\" srcset=\"https://media.cinemark.com/media/75952871/md_dp_imax.jpg\"/>\n",
      "</picture>, <picture>\n",
      "<source data-srcset=\"https://media.cinemark.com/media/75952591/md_booksmart.jpg\" media=\"(min-width: 768px)\" srcset=\"https://media.cinemark.com/media/75952591/md_booksmart.jpg\"/>\n",
      "<source data-srcset=\"https://media.cinemark.com/media/75952590/lg_booksmart.jpg\" media=\"(min-width: 450px)\" srcset=\"https://media.cinemark.com/media/75952590/lg_booksmart.jpg\"/>\n",
      "<img alt=\"Booksmart: Early Access Screenings Poster\" class=\"img-responsive lazyloaded\" data-srcset=\"https://media.cinemark.com/media/75952591/md_booksmart.jpg\" srcset=\"https://media.cinemark.com/media/75952591/md_booksmart.jpg\"/>\n",
      "</picture>, <picture>\n",
      "<source data-srcset=\"https://media.cinemark.com/media/75952591/md_booksmart.jpg\" media=\"(min-width: 768px)\" srcset=\"https://media.cinemark.com/media/75952591/md_booksmart.jpg\"/>\n",
      "<source data-srcset=\"https://media.cinemark.com/media/75952590/lg_booksmart.jpg\" media=\"(min-width: 450px)\" srcset=\"https://media.cinemark.com/media/75952590/lg_booksmart.jpg\"/>\n",
      "<img alt=\"Booksmart Poster\" class=\"img-responsive lazyloaded\" data-srcset=\"https://media.cinemark.com/media/75952591/md_booksmart.jpg\" srcset=\"https://media.cinemark.com/media/75952591/md_booksmart.jpg\"/>\n",
      "</picture>, <picture>\n",
      "<source data-srcset=\"https://media.cinemark.com/media/75952594/md_brightburn.jpg\" media=\"(min-width: 768px)\" srcset=\"https://media.cinemark.com/media/75952594/md_brightburn.jpg\"/>\n",
      "<source data-srcset=\"https://media.cinemark.com/media/75952593/lg_brightburn.jpg\" media=\"(min-width: 450px)\" srcset=\"https://media.cinemark.com/media/75952593/lg_brightburn.jpg\"/>\n",
      "<img alt=\"Brightburn Poster\" class=\"img-responsive lazyloaded\" data-srcset=\"https://media.cinemark.com/media/75952594/md_brightburn.jpg\" srcset=\"https://media.cinemark.com/media/75952594/md_brightburn.jpg\"/>\n",
      "</picture>, <picture>\n",
      "<source data-srcset=\"https://media.cinemark.com/media/81626/md_late-night.jpg\" media=\"(min-width: 768px)\" srcset=\"https://media.cinemark.com/media/81626/md_late-night.jpg\"/>\n",
      "<source data-srcset=\"https://media.cinemark.com/media/81627/lg_late-night.jpg\" media=\"(min-width: 450px)\" srcset=\"https://media.cinemark.com/media/81627/lg_late-night.jpg\"/>\n",
      "<img alt=\"Late Night Poster\" class=\"img-responsive lazyloaded\" data-srcset=\"https://media.cinemark.com/media/81626/md_late-night.jpg\" srcset=\"https://media.cinemark.com/media/81626/md_late-night.jpg\"/>\n",
      "</picture>, <picture>\n",
      "<source data-srcset=\"https://media.cinemark.com/media/70149/md_steel_magnolias.jpg\" media=\"(min-width: 768px)\" srcset=\"https://media.cinemark.com/media/70149/md_steel_magnolias.jpg\"/>\n",
      "<source data-srcset=\"https://media.cinemark.com/media/70150/lg_steel_magnolias.jpg\" media=\"(min-width: 450px)\" srcset=\"https://media.cinemark.com/media/70150/lg_steel_magnolias.jpg\"/>\n",
      "<img alt=\"Steel Magnolias 30th Anniversary (1989) presented by TCM Poster\" class=\"img-responsive lazyloaded\" data-srcset=\"https://media.cinemark.com/media/70149/md_steel_magnolias.jpg\" srcset=\"https://media.cinemark.com/media/70149/md_steel_magnolias.jpg\"/>\n",
      "</picture>]\n"
     ]
    }
   ],
   "source": [
    "movie_picture = soup_movie.find_all('picture')\n",
    "print(movie_picture)"
   ]
  },
  {
   "cell_type": "code",
   "execution_count": 47,
   "metadata": {},
   "outputs": [
    {
     "data": {
      "text/plain": [
       "'/images/cinemarkLogo.png'"
      ]
     },
     "execution_count": 47,
     "metadata": {},
     "output_type": "execute_result"
    }
   ],
   "source": [
    "#cinemark logo?\n",
    "soup_movie.find('source')['srcset']"
   ]
  },
  {
   "cell_type": "code",
   "execution_count": 73,
   "metadata": {},
   "outputs": [
    {
     "name": "stdout",
     "output_type": "stream",
     "text": [
      "<picture>\n",
      "<source media=\"(min-width: 992px)\" srcset=\"/images/cinemarkLogo.png\"/>\n",
      "<img alt=\"Cinemark | Century Theatres, CinéArts, Tinseltown, Rave Cinemas\" class=\"img-responsive\" srcset=\"/images/cinemarkC.png\"/>\n",
      "</picture>\n"
     ]
    }
   ],
   "source": [
    "#wha-oh - where be my image.jpg - mmmmm\n",
    "movie_pic = soup_movie.find_all('picture')\n",
    "print(movie_pic[0])"
   ]
  },
  {
   "cell_type": "code",
   "execution_count": 92,
   "metadata": {},
   "outputs": [
    {
     "name": "stdout",
     "output_type": "stream",
     "text": [
      "<div class=\"card\">\n",
      "<a class=\"\" href=\"/john-wick-3\">\n",
      "<picture>\n",
      "<source data-srcset=\"https://media.cinemark.com/media/83078/md_john-wick-3.jpg\" media=\"(min-width: 768px)\" srcset=\"https://media.cinemark.com/media/83078/md_john-wick-3.jpg\"/>\n",
      "<source data-srcset=\"https://media.cinemark.com/media/83079/lg_john-wick-3.jpg\" media=\"(min-width: 450px)\" srcset=\"https://media.cinemark.com/media/83079/lg_john-wick-3.jpg\"/>\n",
      "<img alt=\"John Wick: Chapter 3 - Parabellum Poster\" class=\"img-responsive lazyloaded\" data-srcset=\"https://media.cinemark.com/media/83078/md_john-wick-3.jpg\" srcset=\"https://media.cinemark.com/media/83078/md_john-wick-3.jpg\"/>\n",
      "</picture>\n",
      "</a>\n",
      "<a class=\"title\" href=\"/john-wick-3\">John Wick: Chapter 3 - Parabellum</a>\n",
      "<div class=\"buttons\">\n",
      "<a class=\"button col-xs-6\" href=\"/john-wick-3\">Tickets</a>\n",
      "<a class=\"button col-xs-6 trailer\" data-trailer-embedded=\"True\" data-trailer-src=\"https://www.youtube.com/embed/M7XM597XO94?rel=0\" href=\"#\">Trailer</a>\n",
      "</div>\n",
      "</div>\n"
     ]
    }
   ],
   "source": [
    "#found my image\n",
    "movie_pic2 = soup_movie.find_all('div', 'card')\n",
    "print(movie_pic2[0])"
   ]
  },
  {
   "cell_type": "code",
   "execution_count": 124,
   "metadata": {},
   "outputs": [
    {
     "ename": "AttributeError",
     "evalue": "ResultSet object has no attribute 'find_all'. You're probably treating a list of items like a single item. Did you call find_all() when you meant to call find()?",
     "output_type": "error",
     "traceback": [
      "\u001b[0;31m---------------------------------------------------------------------------\u001b[0m",
      "\u001b[0;31mAttributeError\u001b[0m                            Traceback (most recent call last)",
      "\u001b[0;32m<ipython-input-124-76f02ee64422>\u001b[0m in \u001b[0;36m<module>\u001b[0;34m\u001b[0m\n\u001b[0;32m----> 1\u001b[0;31m \u001b[0mmovie_pic2\u001b[0m\u001b[0;34m.\u001b[0m\u001b[0mfind_all\u001b[0m\u001b[0;34m(\u001b[0m\u001b[0;34m'source'\u001b[0m\u001b[0;34m,\u001b[0m \u001b[0;34m'data-srcset'\u001b[0m\u001b[0;34m)\u001b[0m\u001b[0;34m\u001b[0m\u001b[0;34m\u001b[0m\u001b[0m\n\u001b[0m",
      "\u001b[0;32m/anaconda3/lib/python3.7/site-packages/bs4/element.py\u001b[0m in \u001b[0;36m__getattr__\u001b[0;34m(self, key)\u001b[0m\n\u001b[1;32m   1882\u001b[0m     \u001b[0;32mdef\u001b[0m \u001b[0m__getattr__\u001b[0m\u001b[0;34m(\u001b[0m\u001b[0mself\u001b[0m\u001b[0;34m,\u001b[0m \u001b[0mkey\u001b[0m\u001b[0;34m)\u001b[0m\u001b[0;34m:\u001b[0m\u001b[0;34m\u001b[0m\u001b[0;34m\u001b[0m\u001b[0m\n\u001b[1;32m   1883\u001b[0m         raise AttributeError(\n\u001b[0;32m-> 1884\u001b[0;31m             \u001b[0;34m\"ResultSet object has no attribute '%s'. You're probably treating a list of items like a single item. Did you call find_all() when you meant to call find()?\"\u001b[0m \u001b[0;34m%\u001b[0m \u001b[0mkey\u001b[0m\u001b[0;34m\u001b[0m\u001b[0;34m\u001b[0m\u001b[0m\n\u001b[0m\u001b[1;32m   1885\u001b[0m         )\n",
      "\u001b[0;31mAttributeError\u001b[0m: ResultSet object has no attribute 'find_all'. You're probably treating a list of items like a single item. Did you call find_all() when you meant to call find()?"
     ]
    }
   ],
   "source": [
    "movie_pic2.find_all('source', 'data-srcset')"
   ]
  },
  {
   "cell_type": "code",
   "execution_count": 126,
   "metadata": {},
   "outputs": [
    {
     "data": {
      "text/plain": [
       "[]"
      ]
     },
     "execution_count": 126,
     "metadata": {},
     "output_type": "execute_result"
    }
   ],
   "source": [
    "soup_movie.find_all('picture', 'source data-srcset')"
   ]
  },
  {
   "cell_type": "code",
   "execution_count": 121,
   "metadata": {},
   "outputs": [
    {
     "data": {
      "text/plain": [
       "bs4.element.ResultSet"
      ]
     },
     "execution_count": 121,
     "metadata": {},
     "output_type": "execute_result"
    }
   ],
   "source": [
    "type(movie_pic2)"
   ]
  },
  {
   "cell_type": "code",
   "execution_count": 122,
   "metadata": {},
   "outputs": [
    {
     "data": {
      "text/plain": [
       "bs4.BeautifulSoup"
      ]
     },
     "execution_count": 122,
     "metadata": {},
     "output_type": "execute_result"
    }
   ],
   "source": [
    "type(soup_movie)"
   ]
  },
  {
   "cell_type": "code",
   "execution_count": null,
   "metadata": {},
   "outputs": [],
   "source": []
  },
  {
   "cell_type": "code",
   "execution_count": 108,
   "metadata": {},
   "outputs": [
    {
     "name": "stdout",
     "output_type": "stream",
     "text": [
      "[<a class=\"title\" href=\"/john-wick-3\">John Wick: Chapter 3 - Parabellum</a>, <a class=\"title\" href=\"/avengers-endgame\">Avengers: Endgame</a>, <a class=\"title\" href=\"/aladdin-opening-night-fan-event\">Aladdin Opening Night Fan Event</a>, <a class=\"title\" href=\"/detective-pikachu\">Pokémon Detective Pikachu</a>, <a class=\"title\" href=\"/aladdin\">Aladdin</a>, <a class=\"title\" href=\"/a-dogs-journey\">A Dog's Journey</a>, <a class=\"title\" href=\"/spider-man-far-from-home\">Spider-Man: Far From Home</a>, <a class=\"title\" href=\"/godzilla-king-of-the-monsters\">Godzilla: King Of The Monsters</a>, <a class=\"title\" href=\"/rocketman\">Rocketman</a>, <a class=\"title\" href=\"/the-secret-life-of-pets-2\">The Secret Life of Pets 2</a>, <a class=\"title\" href=\"/dark-phoenix\">Dark Phoenix</a>, <a class=\"title\" href=\"/dark-phoenix-imax-fan-event\">Dark Phoenix Opening Night IMAX Fan Event </a>, <a class=\"title\" href=\"/booksmart-early-access-screenings\">Booksmart: Early Access Screenings</a>, <a class=\"title\" href=\"/booksmart\">Booksmart</a>, <a class=\"title\" href=\"/brightburn\">Brightburn</a>, <a class=\"title\" href=\"/late-night\">Late Night</a>, <a class=\"title\" href=\"/steel-magnolias-30th-anniversary\">Steel Magnolias 30th Anniversary (1989) presented by TCM</a>]\n",
      "ResultSet object has no attribute 'find'. You're probably treating a list of items like a single item. Did you call find_all() when you meant to call find()?\n",
      "ResultSet object has no attribute 'find'. You're probably treating a list of items like a single item. Did you call find_all() when you meant to call find()?\n",
      "ResultSet object has no attribute 'find'. You're probably treating a list of items like a single item. Did you call find_all() when you meant to call find()?\n",
      "ResultSet object has no attribute 'find'. You're probably treating a list of items like a single item. Did you call find_all() when you meant to call find()?\n",
      "ResultSet object has no attribute 'find'. You're probably treating a list of items like a single item. Did you call find_all() when you meant to call find()?\n",
      "ResultSet object has no attribute 'find'. You're probably treating a list of items like a single item. Did you call find_all() when you meant to call find()?\n",
      "ResultSet object has no attribute 'find'. You're probably treating a list of items like a single item. Did you call find_all() when you meant to call find()?\n",
      "ResultSet object has no attribute 'find'. You're probably treating a list of items like a single item. Did you call find_all() when you meant to call find()?\n",
      "ResultSet object has no attribute 'find'. You're probably treating a list of items like a single item. Did you call find_all() when you meant to call find()?\n",
      "ResultSet object has no attribute 'find'. You're probably treating a list of items like a single item. Did you call find_all() when you meant to call find()?\n",
      "ResultSet object has no attribute 'find'. You're probably treating a list of items like a single item. Did you call find_all() when you meant to call find()?\n",
      "ResultSet object has no attribute 'find'. You're probably treating a list of items like a single item. Did you call find_all() when you meant to call find()?\n",
      "ResultSet object has no attribute 'find'. You're probably treating a list of items like a single item. Did you call find_all() when you meant to call find()?\n",
      "ResultSet object has no attribute 'find'. You're probably treating a list of items like a single item. Did you call find_all() when you meant to call find()?\n",
      "ResultSet object has no attribute 'find'. You're probably treating a list of items like a single item. Did you call find_all() when you meant to call find()?\n",
      "ResultSet object has no attribute 'find'. You're probably treating a list of items like a single item. Did you call find_all() when you meant to call find()?\n",
      "ResultSet object has no attribute 'find'. You're probably treating a list of items like a single item. Did you call find_all() when you meant to call find()?\n"
     ]
    }
   ],
   "source": [
    "movie_titles = soup_movie.find_all('a', class_='title')\n",
    "print(movie_titles)\n",
    "\n",
    "# Loop through returned results\n",
    "for movie_title in movie_titles:\n",
    "    # Error handling\n",
    "    try:\n",
    "        # Identify and return title of listing\n",
    "        title_movie = movie_titles.find('a', class_='title')\n",
    "\n",
    "        # Run only if title are available\n",
    "        if (title_movie):\n",
    "            print(movie_titles)\n",
    "            print('-------------')\n",
    "            print(title_movie)\n",
    "        \n",
    "    except Exception as e:\n",
    "        print(e)\n",
    "        "
   ]
  },
  {
   "cell_type": "code",
   "execution_count": 63,
   "metadata": {},
   "outputs": [],
   "source": []
  },
  {
   "cell_type": "code",
   "execution_count": null,
   "metadata": {},
   "outputs": [],
   "source": []
  },
  {
   "cell_type": "raw",
   "metadata": {},
   "source": []
  },
  {
   "cell_type": "code",
   "execution_count": null,
   "metadata": {},
   "outputs": [],
   "source": []
  }
 ],
 "metadata": {
  "kernelspec": {
   "display_name": "Python 3",
   "language": "python",
   "name": "python3"
  },
  "language_info": {
   "codemirror_mode": {
    "name": "ipython",
    "version": 3
   },
   "file_extension": ".py",
   "mimetype": "text/x-python",
   "name": "python",
   "nbconvert_exporter": "python",
   "pygments_lexer": "ipython3",
   "version": "3.7.1"
  }
 },
 "nbformat": 4,
 "nbformat_minor": 2
}
