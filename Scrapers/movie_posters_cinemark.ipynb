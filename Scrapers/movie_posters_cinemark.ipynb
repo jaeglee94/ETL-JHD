{
 "cells": [
  {
   "cell_type": "code",
   "execution_count": 2,
   "metadata": {},
   "outputs": [],
   "source": [
    "# Dependencies\n",
    "from bs4 import BeautifulSoup\n",
    "import requests\n",
    "import pandas as pd\n",
    "import numpy as np\n",
    "from splinter import Browser"
   ]
  },
  {
   "cell_type": "code",
   "execution_count": 36,
   "metadata": {},
   "outputs": [],
   "source": [
    "# URL of page to be scraped\n",
    "url = 'https://www.cinemark.com/movies'\n",
    "\n",
    "# Retrieve page with the requests module\n",
    "response = requests.get(url)\n",
    "# Create BeautifulSoup object; parse with 'html'\n",
    "soup = BeautifulSoup(response.text, 'html.parser')\n",
    "# print(soup.prettify())\n",
    "# soup"
   ]
  },
  {
   "cell_type": "code",
   "execution_count": 51,
   "metadata": {},
   "outputs": [
    {
     "data": {
      "text/plain": [
       "['Avengers: Endgame',\n",
       " 'Pokémon Detective Pikachu',\n",
       " 'Aladdin Opening Night Fan Event',\n",
       " 'Maharshi (Telugu with English subtitles)',\n",
       " 'Dark Phoenix',\n",
       " 'Dark Phoenix Opening Night IMAX Fan Event ',\n",
       " 'Spider-Man: Far From Home',\n",
       " 'Godzilla: King Of The Monsters',\n",
       " 'Aladdin',\n",
       " 'Rocketman',\n",
       " 'Long Shot',\n",
       " 'Booksmart: Early Access Screenings',\n",
       " 'Booksmart',\n",
       " 'The Hustle',\n",
       " 'Poms',\n",
       " 'Tolkien',\n",
       " 'John Wick: Chapter 3 - Parabellum',\n",
       " \"A Dog's Journey\",\n",
       " 'The Secret Life of Pets 2',\n",
       " 'Brightburn',\n",
       " 'Late Night',\n",
       " 'Steel Magnolias 30th Anniversary (1989) presented by TCM']"
      ]
     },
     "execution_count": 51,
     "metadata": {},
     "output_type": "execute_result"
    }
   ],
   "source": [
    "# results = soup.find_all('a', class_='title')\n",
    "# for result in results:\n",
    "# #     title= result.find('a', class_='title')\n",
    "#     print(result)\n",
    "\n",
    "results\n",
    "movies = []\n",
    "results = soup.find_all('a', class_='title')\n",
    "for res in results:\n",
    "    try:\n",
    "       movies.append(res.contents[0])\n",
    "    except:\n",
    "        a = \"sucks\"\n",
    "    \n",
    "movies\n"
   ]
  },
  {
   "cell_type": "code",
   "execution_count": 73,
   "metadata": {},
   "outputs": [
    {
     "name": "stdout",
     "output_type": "stream",
     "text": [
      "https://media.cinemark.com/media/75952873/mc_no_fees_300x100.jpg\n",
      "https://media.cinemark.com/media/81829/md_avengers-endgame.jpg\n",
      "https://media.cinemark.com/media/82698/md_detective-pikachu.jpg\n",
      "https://media.cinemark.com/media/75952478/md_aladdin_fan_event.jpg\n",
      "https://media.cinemark.com/media/75952293/md_maharshi.jpg\n",
      "https://media.cinemark.com/media/75952822/md_dark_phoenix.jpg\n",
      "https://media.cinemark.com/media/75952871/md_dp_imax.jpg\n",
      "https://media.cinemark.com/media/75952635/md_spider_man_ffh.jpg\n",
      "https://media.cinemark.com/media/75952284/md_godzilla-king-of-monsters.jpg\n",
      "https://media.cinemark.com/media/82100/aladdin_poster_medium.jpg\n",
      "https://media.cinemark.com/media/81405/md_rocketman.jpg\n",
      "https://media.cinemark.com/media/75952475/md_long_shot.jpg\n",
      "https://media.cinemark.com/media/75952591/md_booksmart.jpg\n",
      "https://media.cinemark.com/media/75952591/md_booksmart.jpg\n",
      "https://media.cinemark.com/media/83515/md_the-hustle.jpg\n",
      "https://media.cinemark.com/media/83395/md_poms.jpg\n",
      "https://media.cinemark.com/media/26990536/md_tolkien.jpg\n",
      "https://media.cinemark.com/media/83078/md_john-wick-3.jpg\n",
      "https://media.cinemark.com/media/75952910/md_a_dogs_journey.jpg\n",
      "https://media.cinemark.com/media/75952915/md_secret_life_of_pets.jpg\n",
      "https://media.cinemark.com/media/75952594/md_brightburn.jpg\n",
      "https://media.cinemark.com/media/81626/md_late-night.jpg\n",
      "https://media.cinemark.com/media/70149/md_steel_magnolias.jpg\n"
     ]
    }
   ],
   "source": [
    "#img is child element of picture.\n",
    "results = soup.find_all('picture')\n",
    "for res in results:\n",
    "    image_results = res.find_all(\"img\", class_= \"img-responsive\")\n",
    "    for img in image_results:\n",
    "        try:\n",
    "            print(img['data-srcset'])\n",
    "        except:\n",
    "            a ='blank'"
   ]
  },
  {
   "cell_type": "code",
   "execution_count": null,
   "metadata": {},
   "outputs": [],
   "source": []
  }
 ],
 "metadata": {
  "kernelspec": {
   "display_name": "Python 3",
   "language": "python",
   "name": "python3"
  },
  "language_info": {
   "codemirror_mode": {
    "name": "ipython",
    "version": 3
   },
   "file_extension": ".py",
   "mimetype": "text/x-python",
   "name": "python",
   "nbconvert_exporter": "python",
   "pygments_lexer": "ipython3",
   "version": "3.7.1"
  }
 },
 "nbformat": 4,
 "nbformat_minor": 2
}
