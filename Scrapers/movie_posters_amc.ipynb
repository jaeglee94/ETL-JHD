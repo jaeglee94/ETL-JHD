{
 "cells": [
  {
   "cell_type": "code",
   "execution_count": 6,
   "metadata": {},
   "outputs": [],
   "source": [
    "# Dependencies\n",
    "from bs4 import BeautifulSoup\n",
    "import requests\n",
    "import pandas as pd\n",
    "import numpy as np\n",
    "from splinter import Browser"
   ]
  },
  {
   "cell_type": "code",
   "execution_count": 7,
   "metadata": {},
   "outputs": [],
   "source": [
    "# URL of page to be scraped\n",
    "url = 'https://www.amctheatres.com/movies'\n",
    "\n",
    "# Retrieve page with the requests module\n",
    "response = requests.get(url)\n",
    "# Create BeautifulSoup object; parse with 'html'\n",
    "soup = BeautifulSoup(response.text, 'html.parser')\n",
    "# print(soup.prettify())"
   ]
  },
  {
   "cell_type": "code",
   "execution_count": 8,
   "metadata": {},
   "outputs": [
    {
     "data": {
      "text/plain": [
       "['John Wick: Chapter 3 - Parabellum',\n",
       " 'Pokemon Detective Pikachu',\n",
       " 'Avengers: Endgame',\n",
       " \"A Dog's Journey\",\n",
       " 'The Sun Is Also A Star',\n",
       " 'The Hustle',\n",
       " 'Long Shot',\n",
       " 'The Intruder',\n",
       " 'Poms',\n",
       " 'Uglydolls',\n",
       " 'Tolkien',\n",
       " 'Breakthrough',\n",
       " 'The Curse Of La Llorona',\n",
       " 'Captain Marvel',\n",
       " 'MetEn: Dialogues des Carmélites',\n",
       " 'The Biggest Little Farm',\n",
       " 'Little',\n",
       " 'Shazam!',\n",
       " 'Dumbo',\n",
       " 'Student Of The Year 2',\n",
       " 'Us',\n",
       " 'Pet Sematary',\n",
       " 'Amazing Grace',\n",
       " 'Penguins (Disneynature)',\n",
       " 'Chicano, El',\n",
       " 'Saga of Tanya the Evil – the Movie -']"
      ]
     },
     "execution_count": 8,
     "metadata": {},
     "output_type": "execute_result"
    }
   ],
   "source": [
    "#web scrape the name and logo of both theaters\n",
    "\n",
    "#collect movie titles and images\n",
    "\n",
    "#remove last two movies amc\n",
    "\n",
    "\n",
    "# results = soup.find_all('h3')\n",
    "# for res in results:\n",
    "#     try:\n",
    "#         print(res.text)\n",
    "#     except:\n",
    "#         a = \"sucks\"\n",
    "\n",
    "movies = []\n",
    "results = soup.find_all('a', class_='Link')\n",
    "for res in results:\n",
    "    try:\n",
    "       movies.append(res['aria-label'])\n",
    "    except:\n",
    "        a = \"sucks\"\n",
    "        \n",
    "    #if \"aria-label\" in res:\n",
    "    #    print(res[\"aria-label\"])\n",
    "len(movies)\n",
    "results\n",
    "movies"
   ]
  },
  {
   "cell_type": "code",
   "execution_count": 55,
   "metadata": {},
   "outputs": [
    {
     "name": "stdout",
     "output_type": "stream",
     "text": [
      "https://amc-theatres-res.cloudinary.com/image/upload/f_auto,fl_lossy,h_600,q_auto,w_400/v1554742347/amc-cdn/production/2/movies/55000/54963/PosterDynamic/75363.jpg\n",
      "https://amc-theatres-res.cloudinary.com/image/upload/f_auto,fl_lossy,h_600,q_auto,w_400/v1550090763/amc-cdn/production/2/movies/55800/55766/PosterDynamic/73817.jpg\n",
      "https://amc-theatres-res.cloudinary.com/image/upload/f_auto,fl_lossy,h_600,q_auto,w_400/v1553695740/amc-cdn/production/2/movies/45800/45840/PosterDynamic/75045.jpg\n",
      "https://amc-theatres-res.cloudinary.com/image/upload/f_auto,fl_lossy,h_600,q_auto,w_400/v1552665459/amc-cdn/production/2/movies/57100/57114/PosterDynamic/74577.jpg\n",
      "https://amc-theatres-res.cloudinary.com/image/upload/f_auto,fl_lossy,h_600,q_auto,w_400/v1553857440/amc-cdn/production/2/movies/56500/56505/Poster/267883R1.jpg\n",
      "https://amc-theatres-res.cloudinary.com/image/upload/f_auto,fl_lossy,h_600,q_auto,w_400/v1550870927/amc-cdn/production/2/movies/55600/55559/PosterDynamic/74035.jpg\n",
      "https://amc-theatres-res.cloudinary.com/image/upload/f_auto,fl_lossy,h_600,q_auto,w_400/v1556829272/amc-cdn/production/2/movies/55200/55152/PosterDynamic/76033.jpg\n",
      "https://amc-theatres-res.cloudinary.com/image/upload/f_auto,fl_lossy,h_600,q_auto,w_400/v1553118516/amc-cdn/production/2/movies/58600/58583/PosterDynamic/74740.jpg\n",
      "https://amc-theatres-res.cloudinary.com/image/upload/f_auto,fl_lossy,h_600,q_auto,w_400/v1553339037/amc-cdn/production/2/movies/59300/59313/Poster/275935R1.jpg\n",
      "https://amc-theatres-res.cloudinary.com/image/upload/f_auto,fl_lossy,h_600,q_auto,w_400/v1549899275/amc-cdn/production/2/movies/53500/53489/PosterDynamic/73761.jpg\n",
      "https://amc-theatres-res.cloudinary.com/image/upload/f_auto,fl_lossy,h_600,q_auto,w_400/v1552561420/amc-cdn/production/2/movies/59400/59355/Poster/265583R1.jpg\n",
      "https://amc-theatres-res.cloudinary.com/image/upload/f_auto,fl_lossy,h_600,q_auto,w_400/v1/amc-cdn/production/2/movies/56700/56739/PosterDynamic/67634.jpg\n",
      "https://amc-theatres-res.cloudinary.com/image/upload/f_auto,fl_lossy,h_600,q_auto,w_400/v1550870865/amc-cdn/production/2/movies/56500/56506/PosterDynamic/74034.jpg\n",
      "https://amc-theatres-res.cloudinary.com/image/upload/f_auto,fl_lossy,h_600,q_auto,w_400/v1/amc-cdn/production/2/movies/45800/45838/PosterDynamic/67602.jpg\n",
      "https://amc-theatres-res.cloudinary.com/image/upload/f_auto,fl_lossy,h_600,q_auto,w_400/v1/amc-cdn/production/2/movies/57300/57328/PosterDynamic/45620.jpg\n",
      "https://amc-theatres-res.cloudinary.com/image/upload/f_auto,fl_lossy,h_600,q_auto,w_400/v1557870176/amc-cdn/production/2/movies/58700/58668/PosterDynamic/76545.jpg\n",
      "https://amc-theatres-res.cloudinary.com/image/upload/f_auto,fl_lossy,h_600,q_auto,w_400/v1551116965/amc-cdn/production/2/movies/56500/56470/PosterDynamic/74076.jpg\n",
      "https://amc-theatres-res.cloudinary.com/image/upload/f_auto,fl_lossy,h_600,q_auto,w_400/v1/amc-cdn/production/2/movies/46000/46015/PosterDynamic/67642.jpg\n",
      "https://amc-theatres-res.cloudinary.com/image/upload/f_auto,fl_lossy,h_600,q_auto,w_400/v1/amc-cdn/production/2/movies/49500/49543/PosterDynamic/67392.jpg\n",
      "https://amc-theatres-res.cloudinary.com/image/upload/f_auto,fl_lossy,h_600,q_auto,w_400/v1556572410/amc-cdn/production/2/movies/55600/55618/PosterDynamic/75937.jpg\n",
      "https://amc-theatres-res.cloudinary.com/image/upload/f_auto,fl_lossy,h_600,q_auto,w_400/v1/amc-cdn/production/2/movies/54000/53983/PosterDynamic/67723.jpg\n",
      "https://amc-theatres-res.cloudinary.com/image/upload/f_auto,fl_lossy,h_600,q_auto,w_400/v1549552922/amc-cdn/production/2/movies/55700/55746/PosterDynamic/73655.jpg\n",
      "https://amc-theatres-res.cloudinary.com/image/upload/f_auto,fl_lossy,h_600,q_auto,w_400/v1554151964/amc-cdn/production/2/movies/59500/59533/PosterDynamic/75257.jpg\n",
      "https://amc-theatres-res.cloudinary.com/image/upload/f_auto,fl_lossy,h_600,q_auto,w_400/v1555944979/amc-cdn/production/2/movies/56500/56468/PosterDynamic/75642.jpg\n",
      "https://amc-theatres-res.cloudinary.com/image/upload/f_auto,fl_lossy,h_600,q_auto,w_400/v1553943820/amc-cdn/production/2/movies/59200/59189/Poster/281296R1.jpg\n",
      "https://amc-theatres-res.cloudinary.com/image/upload/f_auto,fl_lossy,h_600,q_auto,w_400/v1557572774/amc-cdn/production/2/movies/60000/60002/Poster/290349R1.jpg\n"
     ]
    },
    {
     "data": {
      "text/plain": [
       "[<source data-reactid=\"839\" media=\"(min-width: 767px)\" srcset=\"https://amc-theatres-res.cloudinary.com/image/upload/f_auto,fl_lossy,h_600,q_auto,w_400/v1557572774/amc-cdn/production/2/movies/60000/60002/Poster/290349R1.jpg\"/>]"
      ]
     },
     "execution_count": 55,
     "metadata": {},
     "output_type": "execute_result"
    }
   ],
   "source": [
    "results = soup.find_all(\"picture\")\n",
    "# results\n",
    "# for res in results:\n",
    "#     print(res['img'])\n",
    "#     try:\n",
    "#         print(res['source'])\n",
    "#     except:\n",
    "#         a=0\n",
    "# results = soup.find_all('picture')\n",
    "for res in results:\n",
    "    image_results = res.find_all(\"source\", attrs = {'srcset': True})\n",
    "    for img in image_results:\n",
    "        try:\n",
    "            print(img['srcset'])\n",
    "        except:\n",
    "            a =\"blank\"\n",
    "image_results\n",
    "# results\n",
    "\n"
   ]
  },
  {
   "cell_type": "code",
   "execution_count": null,
   "metadata": {},
   "outputs": [],
   "source": []
  },
  {
   "cell_type": "code",
   "execution_count": null,
   "metadata": {},
   "outputs": [],
   "source": [
    "\n"
   ]
  },
  {
   "cell_type": "code",
   "execution_count": null,
   "metadata": {},
   "outputs": [],
   "source": []
  }
 ],
 "metadata": {
  "kernelspec": {
   "display_name": "Python 3",
   "language": "python",
   "name": "python3"
  },
  "language_info": {
   "codemirror_mode": {
    "name": "ipython",
    "version": 3
   },
   "file_extension": ".py",
   "mimetype": "text/x-python",
   "name": "python",
   "nbconvert_exporter": "python",
   "pygments_lexer": "ipython3",
   "version": "3.7.1"
  }
 },
 "nbformat": 4,
 "nbformat_minor": 2
}
